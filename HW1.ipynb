{
 "cells": [
  {
   "cell_type": "markdown",
   "metadata": {},
   "source": [
    "**IMPORTANT** <br> <ul> <li> Do **NOT** replace or remove this notebook (ipynb file)! Each cell has unique nbgrader's metadata and ID which, if changed outside the nbgrader, cannot pass the tests. Do **NOT** change the name of the file!</li> <li> To receive any credit, don't forget to **SUBMIT** your notebook when you are done! You can have multiple submissions before the deadline; only the last one is saved, including its timestamp.</li> <li>Before submitting, **Validate** your notebook to check if your codes pass all visible tests. </li> <li>Make sure you fill in any cell with the comment `# your code here`. Remove or comment the command `fail()` (in R), or `raise NotImplementedError` (in Python) and place your code there </li> </ul>"
   ]
  },
  {
   "cell_type": "code",
   "execution_count": 1,
   "metadata": {},
   "outputs": [],
   "source": [
    "NAME = \"Kaytlyn Daffern\""
   ]
  },
  {
   "cell_type": "markdown",
   "metadata": {},
   "source": [
    "---"
   ]
  },
  {
   "cell_type": "code",
   "execution_count": 2,
   "metadata": {
    "deletable": false,
    "editable": false,
    "nbgrader": {
     "cell_type": "code",
     "checksum": "d392eefb0a00600fb7a9dfdf94146d94",
     "grade": false,
     "grade_id": "cell-9fee0b6bde088dca",
     "locked": true,
     "schema_version": 3,
     "solution": false,
     "task": false
    }
   },
   "outputs": [],
   "source": [
    "## import libraries needed\n",
    "## make sure you run this code first!\n",
    "\n",
    "library(testthat)\n",
    "library(digest)\n",
    "library(stringr)"
   ]
  },
  {
   "cell_type": "markdown",
   "metadata": {
    "deletable": false,
    "editable": false,
    "nbgrader": {
     "cell_type": "markdown",
     "checksum": "4cc59a97fd7304caa38263bec59874d7",
     "grade": false,
     "grade_id": "cell-48c2db671d9d618e",
     "locked": true,
     "schema_version": 3,
     "solution": false,
     "task": false
    }
   },
   "source": [
    "### Question 1\n",
    "Create a variable `x` as a vector of first $100$ natural numbers $1, 2, 3, \\dots , 100$\n",
    "\n",
    "In addition, create a variable `y` as a vector of squares of first natural numbers: $1^2, 2^2, 3^2, \\dots , 100^2$."
   ]
  },
  {
   "cell_type": "code",
   "execution_count": 3,
   "metadata": {
    "deletable": false,
    "nbgrader": {
     "cell_type": "code",
     "checksum": "17e5c4f054748448b4f76fe0161b0e5a",
     "grade": false,
     "grade_id": "cell-b5a249261ec2933e",
     "locked": false,
     "schema_version": 3,
     "solution": true,
     "task": false
    }
   },
   "outputs": [],
   "source": [
    "# your code here\n",
    "x = 1:100\n",
    "y = 1:100\n",
    "y = y^2"
   ]
  },
  {
   "cell_type": "code",
   "execution_count": 4,
   "metadata": {
    "deletable": false,
    "editable": false,
    "nbgrader": {
     "cell_type": "code",
     "checksum": "dde9445af9eab129bb379badca473f10",
     "grade": true,
     "grade_id": "cell-d7167a0e211c7723",
     "locked": true,
     "points": 1,
     "schema_version": 3,
     "solution": false,
     "task": false
    }
   },
   "outputs": [
    {
     "name": "stdout",
     "output_type": "stream",
     "text": [
      "\u001b[32mTest passed\u001b[39m 🎊\n",
      "\u001b[32mTest passed\u001b[39m 🌈\n",
      "\u001b[32mTest passed\u001b[39m 🎊\n"
     ]
    }
   ],
   "source": [
    "# check whether you created vectors x and y, which are numeric and of length 100 \n",
    "\n",
    "library(testthat) #in case you forgot to run the first cell (but please run it anyways)\n",
    "\n",
    "if (test_that(desc=\"\", code={\n",
    "    expect_equal(is.vector(x), TRUE)\n",
    "    expect_equal(is.vector(y), TRUE)\n",
    "    }) != TRUE) stop(\"Sorry, x or y was not created as a vector\")\n",
    "\n",
    "    \n",
    "if (test_that(desc=\"\", code={\n",
    "    expect_equal(is.numeric(x), TRUE)\n",
    "    expect_equal(is.numeric(y), TRUE)\n",
    "    }) != TRUE) stop(\"Sorry, x or y is not numeric\")\n",
    "\n",
    "if (test_that(desc=\"\", code={\n",
    "    expect_equal(length(x), 100)\n",
    "    expect_equal(length(y), 100)\n",
    "    }) != TRUE) stop(\"Sorry, wrong length for at least one of the vectors\")\n"
   ]
  },
  {
   "cell_type": "code",
   "execution_count": 5,
   "metadata": {
    "deletable": false,
    "editable": false,
    "nbgrader": {
     "cell_type": "code",
     "checksum": "b5b94133b9f6a4cf022626b8f9c226a2",
     "grade": true,
     "grade_id": "cell-0ce3e5d53d11cdaf",
     "locked": true,
     "points": 1,
     "schema_version": 3,
     "solution": false,
     "task": false
    }
   },
   "outputs": [],
   "source": [
    "# test whether x is correct (hidden test)\n"
   ]
  },
  {
   "cell_type": "code",
   "execution_count": 6,
   "metadata": {
    "deletable": false,
    "editable": false,
    "nbgrader": {
     "cell_type": "code",
     "checksum": "2196f9126737ea1740e60e90ceae1821",
     "grade": true,
     "grade_id": "cell-38c2a2f56aed09c2",
     "locked": true,
     "points": 2,
     "schema_version": 3,
     "solution": false,
     "task": false
    }
   },
   "outputs": [],
   "source": [
    "# test whether y is correct (hidden test)\n"
   ]
  },
  {
   "cell_type": "markdown",
   "metadata": {
    "deletable": false,
    "editable": false,
    "nbgrader": {
     "cell_type": "markdown",
     "checksum": "5e7204d8908859f75194fdffefaa8fb0",
     "grade": false,
     "grade_id": "cell-11f3894fb986e57d",
     "locked": true,
     "schema_version": 3,
     "solution": false,
     "task": false
    }
   },
   "source": [
    "### Question 2\n",
    "Let vector `x` be defined by the expression\n",
    "\n",
    "`x = c(-2, 0, 'a', TRUE, FALSE)`\n",
    "\n",
    "Of what (atomic) object type is `x`?\n",
    "\n",
    "(a) character\n",
    "\n",
    "(b) integer\n",
    "\n",
    "(c) double (real, float)\n",
    "\n",
    "(d) logical (boolean)\n",
    "\n",
    "(e) illogical\n",
    "\n",
    "**NOTE:** To answer this question, create a character variable `ans` and assign it one of the 5 letters that corresponds to the answer you think it is correct. For example, if you think `(e)` is correct, then type\n",
    "\n",
    "`ans = \"e\"`\n",
    "\n",
    "<br>\n",
    "\n",
    "Hint: Use R function discussed in class to find the correct type. Also, answer `(e)` is a joke \t&#128522;. "
   ]
  },
  {
   "cell_type": "code",
   "execution_count": 7,
   "metadata": {
    "deletable": false,
    "nbgrader": {
     "cell_type": "code",
     "checksum": "84db3ce08608729fa913857fd64dbb43",
     "grade": false,
     "grade_id": "cell-fd9895601bd8ee93",
     "locked": false,
     "schema_version": 3,
     "solution": true,
     "task": false
    }
   },
   "outputs": [
    {
     "data": {
      "text/html": [
       "'character'"
      ],
      "text/latex": [
       "'character'"
      ],
      "text/markdown": [
       "'character'"
      ],
      "text/plain": [
       "[1] \"character\""
      ]
     },
     "metadata": {},
     "output_type": "display_data"
    }
   ],
   "source": [
    "# your code here\n",
    "x = c(-2, 0, 'a', TRUE, FALSE)\n",
    "typeof(x)\n",
    "ans = \"a\"\n"
   ]
  },
  {
   "cell_type": "code",
   "execution_count": 8,
   "metadata": {
    "deletable": false,
    "editable": false,
    "nbgrader": {
     "cell_type": "code",
     "checksum": "4b3770420bd62a6699b4d9ebdce2b8c9",
     "grade": true,
     "grade_id": "cell-430532b4b20a9fd8",
     "locked": true,
     "points": 1,
     "schema_version": 3,
     "solution": false,
     "task": false
    }
   },
   "outputs": [
    {
     "name": "stdout",
     "output_type": "stream",
     "text": [
      "\u001b[32mTest passed\u001b[39m 😀\n"
     ]
    }
   ],
   "source": [
    "# check whether `ans` is one of the characters {\"a\",\"b\",\"c\",\"d\"}\n",
    "\n",
    "if (test_that(desc=\"\",code={\n",
    "    expect_equal(ans %in% c(\"a\",\"b\",\"c\",\"d\"), TRUE)\n",
    "    }) != TRUE) stop(\"Sorry, ans is not one of the letters a-d\")"
   ]
  },
  {
   "cell_type": "code",
   "execution_count": 9,
   "metadata": {
    "deletable": false,
    "editable": false,
    "nbgrader": {
     "cell_type": "code",
     "checksum": "083090c797eb889069e501bd8c01c0a1",
     "grade": true,
     "grade_id": "cell-c7d8ca5a45b637d5",
     "locked": true,
     "points": 3,
     "schema_version": 3,
     "solution": false,
     "task": false
    }
   },
   "outputs": [],
   "source": [
    "# check whether your answer is correct (hidden test)\n"
   ]
  },
  {
   "cell_type": "markdown",
   "metadata": {
    "deletable": false,
    "editable": false,
    "nbgrader": {
     "cell_type": "markdown",
     "checksum": "8c153936d0f8487eb32eaaae54e059f3",
     "grade": false,
     "grade_id": "cell-q3",
     "locked": true,
     "schema_version": 3,
     "solution": false,
     "task": false
    }
   },
   "source": [
    "### Question 3\n",
    "A key property of vectors in R is that\n",
    "\n",
    "(a) the length of a vector must be less than a billion\n",
    "\n",
    "(b) components of a vector can be of different atomic types/classes\n",
    "\n",
    "(c) components of a vector must all be of the same atomic type/class\n",
    "\n",
    "(d) components of a vector can only be numeric or character\n",
    "\n",
    "(e) they like to dance \t(&#128131;)\n",
    "\n",
    "**NOTE:** To answer this question, create a character variable `ans` and assign it one of the 5 letters that corresponds to the answer you think it is correct. For example, if you think `(e)` is correct, then type \n",
    "\n",
    "`ans = \"e\"`\n",
    "\n"
   ]
  },
  {
   "cell_type": "code",
   "execution_count": 10,
   "metadata": {
    "deletable": false,
    "nbgrader": {
     "cell_type": "code",
     "checksum": "967bd5f2f7e6a6f27b70c75ce35f6619",
     "grade": false,
     "grade_id": "cell-b9e83e3a741bba22",
     "locked": false,
     "schema_version": 3,
     "solution": true,
     "task": false
    }
   },
   "outputs": [],
   "source": [
    "# your code here\n",
    "ans = \"c\"\n"
   ]
  },
  {
   "cell_type": "code",
   "execution_count": 11,
   "metadata": {
    "deletable": false,
    "editable": false,
    "nbgrader": {
     "cell_type": "code",
     "checksum": "1f767b2552a4d600b6d18e2dbb5d9610",
     "grade": true,
     "grade_id": "cell-521080698be262e3",
     "locked": true,
     "points": 1,
     "schema_version": 3,
     "solution": false,
     "task": false
    }
   },
   "outputs": [
    {
     "name": "stdout",
     "output_type": "stream",
     "text": [
      "\u001b[32mTest passed\u001b[39m 🥳\n"
     ]
    }
   ],
   "source": [
    "# check whether `ans` is one of the characters {\"a\",\"b\",\"c\",\"d\"}\n",
    "\n",
    "if (test_that(desc=\"\",code={\n",
    "    expect_equal(ans %in% c(\"a\",\"b\",\"c\",\"d\"), TRUE)\n",
    "    }) != TRUE) stop(\"Sorry, ans is not one of the letters a-d\")"
   ]
  },
  {
   "cell_type": "code",
   "execution_count": 12,
   "metadata": {
    "deletable": false,
    "editable": false,
    "nbgrader": {
     "cell_type": "code",
     "checksum": "48c02dcb57cf167090b2672ddc8deb91",
     "grade": true,
     "grade_id": "cell-2a03fac136ffff19",
     "locked": true,
     "points": 3,
     "schema_version": 3,
     "solution": false,
     "task": false
    }
   },
   "outputs": [],
   "source": [
    "# check whether your answer is correct (hidden test)\n"
   ]
  },
  {
   "cell_type": "markdown",
   "metadata": {
    "deletable": false,
    "editable": false,
    "nbgrader": {
     "cell_type": "markdown",
     "checksum": "ffcb808f57ec5b16738ebe099780cf82",
     "grade": false,
     "grade_id": "cell-q4",
     "locked": true,
     "schema_version": 3,
     "solution": false,
     "task": false
    }
   },
   "source": [
    "### Question 4\n",
    "\n",
    "Let `x` be a numeric vector and suppose you want to know how many entries of `x` are strictly less than 5. Create\n",
    "a new variable `y` which is equal to the number of entries of `x` that are (strictly) less than 5. For example, if\n",
    "\n",
    "`x = c(-5, 7, 0, 3, 14, 9, 5, 10, 2, -2, 0, 12)`\n",
    "\n",
    "then your variable `y` should be equal to 6. Your code for `y` **must** be expressed in terms of `x` so that for different vectors `x` the same expression for `y` will always give the correct answer. To do that, we create a function `counts()` with input argument `x`. Within this function you need to create your variable `y`in terms of `x`, so that this function returns the right answer for any numeric vector `x`.\n",
    "\n",
    "Also, within the `counts()` function, create another variable `z` which is equal to the number of entries of `x` that are strictly between -5 and 5. Like `y`, the variable `z` **must** be expressed in terms of `x` so that the same expression for `z` works for various vectors `x`. The autograder will test your answer for several vectors `x`.\n",
    "\n",
    "You should have only two lines of code, one for `y`, one for `z`. \n",
    "Also, there is no partial credit! (This is true for each question). If one of the vectors `y` or `z` is wrong but the other one correct, you still get 0 pts."
   ]
  },
  {
   "cell_type": "code",
   "execution_count": 13,
   "metadata": {
    "deletable": false,
    "nbgrader": {
     "cell_type": "code",
     "checksum": "3c4238bb04e800d1471936c8f4da8805",
     "grade": false,
     "grade_id": "cell-cafbf9f8ce74436e",
     "locked": false,
     "schema_version": 3,
     "solution": true,
     "task": false
    }
   },
   "outputs": [],
   "source": [
    "counts = function(x){  # do NOT change this line of the code!\n",
    "\n",
    "# your code here\n",
    "y = length(x[x < 5])\n",
    "z = length(x[x > -5 & x < 5])\n",
    "return(list(y,z))} # do NOT change this line of the code!\n",
    "\n"
   ]
  },
  {
   "cell_type": "code",
   "execution_count": 14,
   "metadata": {
    "deletable": false,
    "editable": false,
    "nbgrader": {
     "cell_type": "code",
     "checksum": "a176cf245668a5f7de238b451b364d85",
     "grade": true,
     "grade_id": "cell-74cf0ccb8ccf479f",
     "locked": true,
     "points": 1,
     "schema_version": 3,
     "solution": false,
     "task": false
    }
   },
   "outputs": [
    {
     "name": "stdout",
     "output_type": "stream",
     "text": [
      "\u001b[32mTest passed\u001b[39m 🥇\n",
      "\u001b[32mTest passed\u001b[39m 🥳\n"
     ]
    }
   ],
   "source": [
    "# check whether function `counts()` exists \n",
    "# and whether counts(x) returns a list of length 2 (for the input x = -3:6)\n",
    "\n",
    "x = -3:6\n",
    "\n",
    "if (test_that(desc=\"Sorry, functions `counts` was not created correctly\", code={\n",
    "    expect_equal(is.function(counts), TRUE)\n",
    "    }) != TRUE) stop(\"Sorry, functions `counts` was not created correctly\")\n",
    "\n",
    "if (test_that(desc=\"\", code={\n",
    "    expect_equal(length(counts(x)), 2)\n",
    "    }) != TRUE) stop(\"Sorry, for x=-3:6, length of the returned list is not 2\")\n"
   ]
  },
  {
   "cell_type": "code",
   "execution_count": 15,
   "metadata": {
    "deletable": false,
    "editable": false,
    "nbgrader": {
     "cell_type": "code",
     "checksum": "524bf2f350af87ca005c4b18c6094b9b",
     "grade": true,
     "grade_id": "cell-3cdfc22ad4fa41cb",
     "locked": true,
     "points": 1,
     "schema_version": 3,
     "solution": false,
     "task": false
    }
   },
   "outputs": [
    {
     "name": "stdout",
     "output_type": "stream",
     "text": [
      "\u001b[32mTest passed\u001b[39m 😸\n",
      "\u001b[32mTest passed\u001b[39m 😸\n",
      "\u001b[32mTest passed\u001b[39m 😀\n"
     ]
    }
   ],
   "source": [
    "# check whether your answer is correct for \n",
    "# (x =) x1 = c(-5, 7, 0, 3, 14, 9, 5, 10, 2, -2, 0, 12) and (x =) x2 = c(-2, 4, 0, 10, 2, -2, 0, 12)\n",
    "\n",
    "x1 = c(-5, 7, 0, 3, 14, 9, 5, 10, 2, -2, 0, 12)\n",
    "x2 = c(-7, -20, 10, 2, 12)\n",
    "\n",
    "\n",
    "if (test_that(desc=\"\", code={\n",
    "    expect_equal(length(counts(x1)), 2)\n",
    "    expect_equal(length(counts(x2)), 2)\n",
    "    }) != TRUE) stop(\"Sorry, length of returned list is not 2\")\n",
    "\n",
    "if (test_that(desc=\"\", code={\n",
    "    expect_equal(counts(x1)[[1]], 6)\n",
    "    expect_equal(counts(x2)[[1]], 3)\n",
    "    }) != TRUE) stop(\"Sorry, 1st component of the list is wrong\")\n",
    "\n",
    "if (test_that(desc=\"\", code={\n",
    "    expect_equal(counts(x1)[[2]], 5)\n",
    "    expect_equal(counts(x2)[[2]], 1)\n",
    "    }) != TRUE) stop(\"Sorry, 2nd component of the list is wrong\")\n"
   ]
  },
  {
   "cell_type": "code",
   "execution_count": 16,
   "metadata": {
    "deletable": false,
    "editable": false,
    "nbgrader": {
     "cell_type": "code",
     "checksum": "4fd693bc71ddbb66f222004c04957f22",
     "grade": true,
     "grade_id": "cell-732b11cbcb29109f",
     "locked": true,
     "points": 2,
     "schema_version": 3,
     "solution": false,
     "task": false
    }
   },
   "outputs": [],
   "source": [
    "# check whether your answer is correct for several different vectors x (hidden test)\n"
   ]
  },
  {
   "cell_type": "markdown",
   "metadata": {
    "deletable": false,
    "editable": false,
    "nbgrader": {
     "cell_type": "markdown",
     "checksum": "53cbb6541a81747bb450e9cda466d6f8",
     "grade": false,
     "grade_id": "cell-aa49525ed6c6cc61",
     "locked": true,
     "schema_version": 3,
     "solution": false,
     "task": false
    }
   },
   "source": [
    "### Question 5\n",
    "Let `x` be a numeric vector and suppose you want to extract all the entries of `x` that are between -3 and 3\n",
    "(**including** both -3 and 3). Create a new vector `y` which consists of all entries of `x` between -3 and 3 (**including** -3 and 3), in order of appearance as in vector `x`. For example, if\n",
    "\n",
    "`x = c(-5, 7, 0, 3, 14, 9, 5, 10, -2, 0, 12)`\n",
    "\n",
    "then, printing `y` should read \n",
    "\n",
    "`y` <br>\n",
    "`[1] 0 3 -2 0`\n",
    "\n",
    "Similarly to the previous problem, we create a function `extract()` within which you need to type `y` in terms of `x`, so that for various vectors `x` the output `extract(x)` always gives the entries of `x` that are between -3 and 3 (including -3 and 3)."
   ]
  },
  {
   "cell_type": "code",
   "execution_count": 17,
   "metadata": {
    "deletable": false,
    "nbgrader": {
     "cell_type": "code",
     "checksum": "c8601d3ec4320e64ae62db8fb8a540d5",
     "grade": false,
     "grade_id": "cell-e882f1190e4c77d4",
     "locked": false,
     "schema_version": 3,
     "solution": true,
     "task": false
    }
   },
   "outputs": [],
   "source": [
    "extract = function(x){  # do NOT change this line of the code!\n",
    "\n",
    "# your code here\n",
    "y = (x[x >= -3 & x <= 3])\n",
    "\n",
    "return(y)} # do NOT change this line of the code!"
   ]
  },
  {
   "cell_type": "code",
   "execution_count": 18,
   "metadata": {
    "deletable": false,
    "editable": false,
    "nbgrader": {
     "cell_type": "code",
     "checksum": "840c3f77e6e544828473a609844f78d4",
     "grade": true,
     "grade_id": "cell-754dfe1d720a58bc",
     "locked": true,
     "points": 5,
     "schema_version": 3,
     "solution": false,
     "task": false
    }
   },
   "outputs": [],
   "source": [
    "# check whether your answer is correct (hidden test)\n",
    "\n"
   ]
  },
  {
   "cell_type": "markdown",
   "metadata": {
    "deletable": false,
    "editable": false,
    "nbgrader": {
     "cell_type": "markdown",
     "checksum": "8ac713911985c65dc95918a394ccd625",
     "grade": false,
     "grade_id": "cell-q6",
     "locked": true,
     "schema_version": 3,
     "solution": false,
     "task": false
    }
   },
   "source": [
    "### Question 6\n",
    "Let `x` be a character vector and suppose you want to know positions/indices of all the entries of `x` that\n",
    "have value `magenta`. Create a new vector `y` which gives you all such indices. For example, if\n",
    "\n",
    "`x = c(\"blue\", \"magenta\", \"yellow\", \"green\", \"cyan\", \"magenta\", \"black\", \"red\")`\n",
    "\n",
    "then, printing `y` should read\n",
    "\n",
    "`y` <br>\n",
    "`[1] 2 6`\n",
    "\n",
    "For this purpose, you need to create the vector `y` within the function `wheremagenta()`."
   ]
  },
  {
   "cell_type": "code",
   "execution_count": 19,
   "metadata": {
    "deletable": false,
    "nbgrader": {
     "cell_type": "code",
     "checksum": "362067eb52420c1a9f2b77ac86d96ac2",
     "grade": false,
     "grade_id": "cell-aa6",
     "locked": false,
     "schema_version": 3,
     "solution": true,
     "task": false
    }
   },
   "outputs": [],
   "source": [
    "wheremagenta = function(x){  # do NOT change this line of the code!\n",
    "\n",
    "# your code here\n",
    "y = which(x == \"magenta\")\n",
    "\n",
    "return(y)} # do NOT change this line of the code!"
   ]
  },
  {
   "cell_type": "code",
   "execution_count": 20,
   "metadata": {
    "deletable": false,
    "editable": false,
    "nbgrader": {
     "cell_type": "code",
     "checksum": "175f52b57b7ff54d668a8c133371e962",
     "grade": true,
     "grade_id": "cell-d4e36d4cf2b2d396",
     "locked": true,
     "points": 1,
     "schema_version": 3,
     "solution": false,
     "task": false
    }
   },
   "outputs": [
    {
     "name": "stdout",
     "output_type": "stream",
     "text": [
      "\u001b[32mTest passed\u001b[39m 🌈\n"
     ]
    }
   ],
   "source": [
    "# check whether your answer is correct for input x = c(\"blue\", \"magenta\", \"yellow\", \"green\", \"cyan\", \"magenta\", \"black\", \"red\")\n",
    "\n",
    "x = c(\"blue\", \"magenta\", \"yellow\", \"green\", \"cyan\", \"magenta\", \"black\", \"red\")\n",
    "\n",
    "if (test_that(desc=\"\", code={\n",
    "    expect_equal(wheremagenta(x), c(2,6))\n",
    "    }) != TRUE) stop(\"Sorry, wrong answer.\")"
   ]
  },
  {
   "cell_type": "code",
   "execution_count": 21,
   "metadata": {
    "deletable": false,
    "editable": false,
    "nbgrader": {
     "cell_type": "code",
     "checksum": "97edbc137a14d35839e9c9d7fadca3ff",
     "grade": true,
     "grade_id": "cell-at6",
     "locked": true,
     "points": 4,
     "schema_version": 3,
     "solution": false,
     "task": false
    }
   },
   "outputs": [],
   "source": [
    "# check whether your answer is correct for several different vectors (hidden test)\n"
   ]
  },
  {
   "cell_type": "markdown",
   "metadata": {
    "deletable": false,
    "editable": false,
    "nbgrader": {
     "cell_type": "markdown",
     "checksum": "bcb1968307ceb3ec5c3ed6d442330df6",
     "grade": false,
     "grade_id": "cell-7ddf39abdc0cfbf5",
     "locked": true,
     "schema_version": 3,
     "solution": false,
     "task": false
    }
   },
   "source": [
    "### Question 7\n",
    "Let `x` be a character vector and suppose you want to change all appearances to `magenta` in vector `x` by\n",
    "`purple`. Create a new vector y (within the function `replacemagenta()`) which is just like `x` except that `magenta` is replaced by `purple`. For\n",
    "example, if\n",
    "\n",
    "`x = c(\"blue\", \"magenta\", \"yellow\", \"green\", \"cyan\", \"magenta\", \"black\", \"red\")`\n",
    "\n",
    "then `y` should read\n",
    "\n",
    "`y` <br>\n",
    "`[1] \"blue\" \"purple\" \"yellow\" \"green\" \"cyan\" \"purple\" \"black\" \"red\"`"
   ]
  },
  {
   "cell_type": "code",
   "execution_count": 22,
   "metadata": {
    "deletable": false,
    "nbgrader": {
     "cell_type": "code",
     "checksum": "26f6f7129b11b6a765f15192d2b757b1",
     "grade": false,
     "grade_id": "cell-26395de09a7b9471",
     "locked": false,
     "schema_version": 3,
     "solution": true,
     "task": false
    }
   },
   "outputs": [],
   "source": [
    "replacemagenta = function(x){  # do NOT change this line of the code!\n",
    "\n",
    "# your code here\n",
    "y = replace(x, x == \"magenta\", \"purple\")\n",
    "\n",
    "return(y)} # do NOT change this line of the code!"
   ]
  },
  {
   "cell_type": "code",
   "execution_count": 23,
   "metadata": {
    "deletable": false,
    "editable": false,
    "nbgrader": {
     "cell_type": "code",
     "checksum": "68821df4475beb08863bab72354f299b",
     "grade": true,
     "grade_id": "cell-950627912248bab6",
     "locked": true,
     "points": 1,
     "schema_version": 3,
     "solution": false,
     "task": false
    }
   },
   "outputs": [
    {
     "name": "stdout",
     "output_type": "stream",
     "text": [
      "\u001b[32mTest passed\u001b[39m 😸\n"
     ]
    }
   ],
   "source": [
    "# check whether your code is correct for \n",
    "# x1 = c(\"red\", magenta\", \"blue\", \"magenta\") \n",
    "# and x2 = c(\"blue\", \"magenta\", \"yellow\", \"green\", \"cyan\", \"magenta\", \"black\", \"red\")\n",
    "\n",
    "x1 = c(\"red\", \"magenta\", \"blue\", \"magenta\") \n",
    "x2 = c(\"blue\", \"magenta\", \"yellow\", \"green\", \"cyan\", \"magenta\", \"black\", \"red\")\n",
    "\n",
    "if (test_that(desc=\"\", code={\n",
    "    expect_equal(replacemagenta(x1), c(\"red\", \"purple\", \"blue\", \"purple\"))\n",
    "    expect_equal(replacemagenta(x2),  c(\"blue\", \"purple\", \"yellow\", \"green\", \"cyan\", \"purple\", \"black\", \"red\"))\n",
    "    }) != TRUE) stop(\"Sorry, wrong answer.\")"
   ]
  },
  {
   "cell_type": "code",
   "execution_count": null,
   "metadata": {
    "deletable": false,
    "editable": false,
    "nbgrader": {
     "cell_type": "code",
     "checksum": "7964e925b377dc17c82ad24228162824",
     "grade": true,
     "grade_id": "cell-88bb037620b466ae",
     "locked": true,
     "points": 4,
     "schema_version": 3,
     "solution": false,
     "task": false
    }
   },
   "outputs": [],
   "source": []
  },
  {
   "cell_type": "markdown",
   "metadata": {
    "deletable": false,
    "editable": false,
    "nbgrader": {
     "cell_type": "markdown",
     "checksum": "e55b40c60d9b94b47eba99b3865de960",
     "grade": false,
     "grade_id": "cell-07e47891abf31da9",
     "locked": true,
     "schema_version": 3,
     "solution": false,
     "task": false
    }
   },
   "source": [
    "### For the remaining problems, read in the data from the built-in dataset airquality and look at the docummentation. To do that, you can just run the following cell to load the data and to see the documentation.  To run the cell, select the cell and press `Ctrl + Enter`.\n",
    "\n",
    "Also, for easier writing, we create a data frame `air` in the following cell, which is equal to `airquality`. Use the data frame `air` in the following questions. This is **mandatory**, as the autograder will base its tests on the `air` data frame."
   ]
  },
  {
   "cell_type": "code",
   "execution_count": 24,
   "metadata": {
    "deletable": false,
    "editable": false,
    "nbgrader": {
     "cell_type": "code",
     "checksum": "0235a087067249b34f06c798e49a49e6",
     "grade": false,
     "grade_id": "cell-fe3ea3c2ea001004",
     "locked": true,
     "schema_version": 3,
     "solution": false,
     "task": false
    }
   },
   "outputs": [
    {
     "data": {
      "text/html": [
       "<table class=\"dataframe\">\n",
       "<caption>A data.frame: 6 × 6</caption>\n",
       "<thead>\n",
       "\t<tr><th></th><th scope=col>Ozone</th><th scope=col>Solar.R</th><th scope=col>Wind</th><th scope=col>Temp</th><th scope=col>Month</th><th scope=col>Day</th></tr>\n",
       "\t<tr><th></th><th scope=col>&lt;int&gt;</th><th scope=col>&lt;int&gt;</th><th scope=col>&lt;dbl&gt;</th><th scope=col>&lt;int&gt;</th><th scope=col>&lt;int&gt;</th><th scope=col>&lt;int&gt;</th></tr>\n",
       "</thead>\n",
       "<tbody>\n",
       "\t<tr><th scope=row>1</th><td>41</td><td>190</td><td> 7.4</td><td>67</td><td>5</td><td>1</td></tr>\n",
       "\t<tr><th scope=row>2</th><td>36</td><td>118</td><td> 8.0</td><td>72</td><td>5</td><td>2</td></tr>\n",
       "\t<tr><th scope=row>3</th><td>12</td><td>149</td><td>12.6</td><td>74</td><td>5</td><td>3</td></tr>\n",
       "\t<tr><th scope=row>4</th><td>18</td><td>313</td><td>11.5</td><td>62</td><td>5</td><td>4</td></tr>\n",
       "\t<tr><th scope=row>5</th><td>NA</td><td> NA</td><td>14.3</td><td>56</td><td>5</td><td>5</td></tr>\n",
       "\t<tr><th scope=row>6</th><td>28</td><td> NA</td><td>14.9</td><td>66</td><td>5</td><td>6</td></tr>\n",
       "</tbody>\n",
       "</table>\n"
      ],
      "text/latex": [
       "A data.frame: 6 × 6\n",
       "\\begin{tabular}{r|llllll}\n",
       "  & Ozone & Solar.R & Wind & Temp & Month & Day\\\\\n",
       "  & <int> & <int> & <dbl> & <int> & <int> & <int>\\\\\n",
       "\\hline\n",
       "\t1 & 41 & 190 &  7.4 & 67 & 5 & 1\\\\\n",
       "\t2 & 36 & 118 &  8.0 & 72 & 5 & 2\\\\\n",
       "\t3 & 12 & 149 & 12.6 & 74 & 5 & 3\\\\\n",
       "\t4 & 18 & 313 & 11.5 & 62 & 5 & 4\\\\\n",
       "\t5 & NA &  NA & 14.3 & 56 & 5 & 5\\\\\n",
       "\t6 & 28 &  NA & 14.9 & 66 & 5 & 6\\\\\n",
       "\\end{tabular}\n"
      ],
      "text/markdown": [
       "\n",
       "A data.frame: 6 × 6\n",
       "\n",
       "| <!--/--> | Ozone &lt;int&gt; | Solar.R &lt;int&gt; | Wind &lt;dbl&gt; | Temp &lt;int&gt; | Month &lt;int&gt; | Day &lt;int&gt; |\n",
       "|---|---|---|---|---|---|---|\n",
       "| 1 | 41 | 190 |  7.4 | 67 | 5 | 1 |\n",
       "| 2 | 36 | 118 |  8.0 | 72 | 5 | 2 |\n",
       "| 3 | 12 | 149 | 12.6 | 74 | 5 | 3 |\n",
       "| 4 | 18 | 313 | 11.5 | 62 | 5 | 4 |\n",
       "| 5 | NA |  NA | 14.3 | 56 | 5 | 5 |\n",
       "| 6 | 28 |  NA | 14.9 | 66 | 5 | 6 |\n",
       "\n"
      ],
      "text/plain": [
       "  Ozone Solar.R Wind Temp Month Day\n",
       "1 41    190      7.4 67   5     1  \n",
       "2 36    118      8.0 72   5     2  \n",
       "3 12    149     12.6 74   5     3  \n",
       "4 18    313     11.5 62   5     4  \n",
       "5 NA     NA     14.3 56   5     5  \n",
       "6 28     NA     14.9 66   5     6  "
      ]
     },
     "metadata": {},
     "output_type": "display_data"
    }
   ],
   "source": [
    "data(airquality)\n",
    "?airquality\n",
    "air = airquality\n",
    "head(air)"
   ]
  },
  {
   "cell_type": "markdown",
   "metadata": {
    "deletable": false,
    "editable": false,
    "nbgrader": {
     "cell_type": "markdown",
     "checksum": "116ee6687fd3f49da55aff177fff3e02",
     "grade": false,
     "grade_id": "cell-57b8c9bf9086e534",
     "locked": true,
     "schema_version": 3,
     "solution": false,
     "task": false
    }
   },
   "source": [
    "### Question 8\n",
    "How many observations (i.e. rows) and how many variables (i.e. columns) are there in the data frame `air`?\n",
    "Create a new vector `ans` of length 2 with these two answers as two entries of `ans`, **respectively** (i.e. the first component should be number of rows, the second should be number of columns). You should\n",
    "have only one line of code: \n",
    "\n",
    "`ans = ???`\n"
   ]
  },
  {
   "cell_type": "code",
   "execution_count": 25,
   "metadata": {
    "deletable": false,
    "nbgrader": {
     "cell_type": "code",
     "checksum": "cc4f2a104a27a2e7b8b578f3877df086",
     "grade": false,
     "grade_id": "cell-a3921b0645bea6c1",
     "locked": false,
     "schema_version": 3,
     "solution": true,
     "task": false
    }
   },
   "outputs": [],
   "source": [
    "# your code here\n",
    "ans = c(nrow(air), ncol(air))\n"
   ]
  },
  {
   "cell_type": "code",
   "execution_count": 26,
   "metadata": {
    "deletable": false,
    "editable": false,
    "nbgrader": {
     "cell_type": "code",
     "checksum": "2b1afdd3f57eb2a7e43501e9fb367285",
     "grade": true,
     "grade_id": "cell-46ac1da4d0388500",
     "locked": true,
     "points": 1,
     "schema_version": 3,
     "solution": false,
     "task": false
    }
   },
   "outputs": [
    {
     "name": "stdout",
     "output_type": "stream",
     "text": [
      "\u001b[32mTest passed\u001b[39m 😀\n",
      "\u001b[32mTest passed\u001b[39m 🥳\n",
      "\u001b[32mTest passed\u001b[39m 😀\n"
     ]
    }
   ],
   "source": [
    "# check whether `ans` is an integer vector and of length 2 (with first component greater than the second)\n",
    "\n",
    "if (test_that(desc=\"\", code={\n",
    "    expect_equal(is.integer(ans), TRUE)\n",
    "    }) != TRUE) stop(\"Sorry, ans is not of integer type\")\n",
    "\n",
    "if (test_that(desc=\"\", code={\n",
    "    expect_equal(length(ans), 2)\n",
    "    }) != TRUE) stop(\"Sorry, ans is not of length 2.\")\n",
    "\n",
    "if (test_that(desc=\"\", code={\n",
    "    expect_equal(ans[1] > ans[2], TRUE)\n",
    "    }) != TRUE) stop(\"Sorry, in this data frame there are more rows than columns\")"
   ]
  },
  {
   "cell_type": "code",
   "execution_count": null,
   "metadata": {
    "deletable": false,
    "editable": false,
    "nbgrader": {
     "cell_type": "code",
     "checksum": "e3426693448e38b3f3150005ba98e534",
     "grade": true,
     "grade_id": "cell-cd0adb7dde39fd75",
     "locked": true,
     "points": 3,
     "schema_version": 3,
     "solution": false,
     "task": false
    }
   },
   "outputs": [],
   "source": []
  },
  {
   "cell_type": "markdown",
   "metadata": {
    "deletable": false,
    "editable": false,
    "nbgrader": {
     "cell_type": "markdown",
     "checksum": "3566560c52ca72fce08d12260bcc8744",
     "grade": false,
     "grade_id": "cell-b804f800612800ba",
     "locked": true,
     "schema_version": 3,
     "solution": false,
     "task": false
    }
   },
   "source": [
    "### Question 9\n",
    "What are the lowest and the highest temperature in the data frame air? Put your answer as a vector `ans`\n",
    "of length 2, with first component being the smallest and the 2nd component being the largest temperature.\n",
    "You should have only one line of code:\n",
    "\n",
    "`ans = ???`\n"
   ]
  },
  {
   "cell_type": "code",
   "execution_count": 27,
   "metadata": {
    "deletable": false,
    "nbgrader": {
     "cell_type": "code",
     "checksum": "7e90d5b558779fe851983106dcc8ead7",
     "grade": false,
     "grade_id": "cell-2fa676769ca03670",
     "locked": false,
     "schema_version": 3,
     "solution": true,
     "task": false
    }
   },
   "outputs": [],
   "source": [
    "# your code here\n",
    "ans = c(min(air$Temp), max(air$Temp))"
   ]
  },
  {
   "cell_type": "code",
   "execution_count": 28,
   "metadata": {
    "deletable": false,
    "editable": false,
    "nbgrader": {
     "cell_type": "code",
     "checksum": "572cc5e86f43697f3652d576a2c82029",
     "grade": true,
     "grade_id": "cell-5a015022b1f3e57a",
     "locked": true,
     "points": 1,
     "schema_version": 3,
     "solution": false,
     "task": false
    }
   },
   "outputs": [
    {
     "name": "stdout",
     "output_type": "stream",
     "text": [
      "\u001b[32mTest passed\u001b[39m 🌈\n"
     ]
    }
   ],
   "source": [
    "# check whether ans is a numeric vector of length 2 and whether 1st entry is smaller than the 2nd\n",
    "\n",
    "if (test_that(desc=\"\", code={\n",
    "    expect_equal(is.numeric(ans),TRUE)\n",
    "    expect_equal(length(ans), 2)\n",
    "    expect_equal(ans[1]<ans[2], TRUE)\n",
    "    }) != TRUE) stop(\"Sorry, wrong answer.\")"
   ]
  },
  {
   "cell_type": "code",
   "execution_count": 29,
   "metadata": {
    "deletable": false,
    "editable": false,
    "nbgrader": {
     "cell_type": "code",
     "checksum": "b55727fe3b20a882e4fdd2cc85c51f1e",
     "grade": true,
     "grade_id": "cell-58fc78f3e096aa61",
     "locked": true,
     "points": 4,
     "schema_version": 3,
     "solution": false,
     "task": false
    }
   },
   "outputs": [],
   "source": [
    "# check whether the answer is correct (hidden test)\n"
   ]
  },
  {
   "cell_type": "markdown",
   "metadata": {
    "deletable": false,
    "editable": false,
    "nbgrader": {
     "cell_type": "markdown",
     "checksum": "bb62861cf36b6e6234b2d71e00a4af84",
     "grade": false,
     "grade_id": "cell-527d3cb66b130ec4",
     "locked": true,
     "schema_version": 3,
     "solution": false,
     "task": false
    }
   },
   "source": [
    "### Question 10\n",
    "How many non-NA and how many NA values are there in the table? Create a new variable `ans` of class\n",
    "`table` that gives total number of non-NA as well as NA entries. The first component should be number of non-NA's, the second should be number of NA's. (You should have just one line of a code)."
   ]
  },
  {
   "cell_type": "code",
   "execution_count": 30,
   "metadata": {
    "deletable": false,
    "nbgrader": {
     "cell_type": "code",
     "checksum": "b1deb902f16cd32f1088d68df83c07d5",
     "grade": false,
     "grade_id": "cell-ca53ce0d066034ad",
     "locked": false,
     "schema_version": 3,
     "solution": true,
     "task": false
    }
   },
   "outputs": [],
   "source": [
    "# your code here\n",
    "ans = table(is.na(air))\n"
   ]
  },
  {
   "cell_type": "code",
   "execution_count": 31,
   "metadata": {
    "deletable": false,
    "editable": false,
    "nbgrader": {
     "cell_type": "code",
     "checksum": "8ff9396ecddd884b386a93ee5f9d4cac",
     "grade": true,
     "grade_id": "cell-17da21b8c443c652",
     "locked": true,
     "points": 1,
     "schema_version": 3,
     "solution": false,
     "task": false
    }
   },
   "outputs": [
    {
     "name": "stdout",
     "output_type": "stream",
     "text": [
      "\u001b[32mTest passed\u001b[39m 🌈\n",
      "\u001b[32mTest passed\u001b[39m 😸\n"
     ]
    }
   ],
   "source": [
    "# check whether ans is of table type and whether number of non-NA's (the first component) is greater than number of NA's\n",
    "\n",
    "if (test_that(desc=\"\", code={\n",
    "    expect_equal(is.table(ans), TRUE)\n",
    "    }) != TRUE) stop(\"Sorry, ans is not of table type\")\n",
    "\n",
    "if (test_that(desc=\"\", code={\n",
    "    expect_equal(ans[[1]] > ans[[2]], TRUE)\n",
    "    }) != TRUE) stop(\"Sorry, in this table 1st component should be larger than the 2nd\")"
   ]
  },
  {
   "cell_type": "code",
   "execution_count": 32,
   "metadata": {
    "deletable": false,
    "editable": false,
    "nbgrader": {
     "cell_type": "code",
     "checksum": "bf666f386ec6aa8642f255ef65e75f5d",
     "grade": true,
     "grade_id": "cell-3c90acb538febd74",
     "locked": true,
     "points": 4,
     "schema_version": 3,
     "solution": false,
     "task": false
    }
   },
   "outputs": [],
   "source": [
    "# check whether the answer is correct (hidden test)\n"
   ]
  },
  {
   "cell_type": "markdown",
   "metadata": {
    "deletable": false,
    "editable": false,
    "nbgrader": {
     "cell_type": "markdown",
     "checksum": "35b8b4750b57dacd55d74cd67b560b15",
     "grade": false,
     "grade_id": "cell-ef908199da5ae00b",
     "locked": true,
     "schema_version": 3,
     "solution": false,
     "task": false
    }
   },
   "source": [
    "### Question 11\n",
    "Create a new data frame `new_df` which extracts only Ozone and Wind observations from air data, but\n",
    "only those which were recorded in September (Month = 9). Your code should have only one line:\n",
    "\n",
    "`new_df = ???`\n",
    "\n",
    "Hint: your data frame should be of dimension 30 x 2."
   ]
  },
  {
   "cell_type": "code",
   "execution_count": 33,
   "metadata": {
    "deletable": false,
    "nbgrader": {
     "cell_type": "code",
     "checksum": "a347a68c2d0022045a3fd69d49c9e873",
     "grade": false,
     "grade_id": "cell-2056bcbf41825035",
     "locked": false,
     "schema_version": 3,
     "solution": true,
     "task": false
    }
   },
   "outputs": [],
   "source": [
    "# your code here\n",
    "new_df = subset(air, Month == 9, select = c(Ozone, Wind))\n"
   ]
  },
  {
   "cell_type": "code",
   "execution_count": 34,
   "metadata": {
    "deletable": false,
    "editable": false,
    "nbgrader": {
     "cell_type": "code",
     "checksum": "7106396c064bff211666f1e6de0656b5",
     "grade": true,
     "grade_id": "cell-edbdd01b3e2c8f30",
     "locked": true,
     "points": 1,
     "schema_version": 3,
     "solution": false,
     "task": false
    }
   },
   "outputs": [
    {
     "name": "stdout",
     "output_type": "stream",
     "text": [
      "\u001b[32mTest passed\u001b[39m 🎊\n",
      "\u001b[32mTest passed\u001b[39m 😀\n"
     ]
    }
   ],
   "source": [
    "# check whether new_df is a data frame and of dimenxion 30 x 2\n",
    "\n",
    "if (test_that(desc=\"\", code={\n",
    "    expect_equal(is.data.frame(new_df), TRUE)\n",
    "    }) != TRUE) stop(\"Sorry, new_df is not a data frame\")\n",
    "\n",
    "if (test_that(desc=\"\", code={\n",
    "    expect_equal(dim(new_df), c(30,2))\n",
    "    }) != TRUE) stop(\"Sorry, wrong dimensions\")"
   ]
  },
  {
   "cell_type": "code",
   "execution_count": 35,
   "metadata": {
    "deletable": false,
    "editable": false,
    "nbgrader": {
     "cell_type": "code",
     "checksum": "2ebfa44729fa993bbe7b6652a9dc6587",
     "grade": true,
     "grade_id": "cell-f6648f66ec6abb50",
     "locked": true,
     "points": 4,
     "schema_version": 3,
     "solution": false,
     "task": false
    }
   },
   "outputs": [],
   "source": [
    "# check whether the answer is correct (hidden test)\n"
   ]
  }
 ],
 "metadata": {
  "kernelspec": {
   "display_name": "R",
   "language": "R",
   "name": "ir"
  },
  "language_info": {
   "codemirror_mode": "r",
   "file_extension": ".r",
   "mimetype": "text/x-r-source",
   "name": "R",
   "pygments_lexer": "r",
   "version": "3.6.3"
  }
 },
 "nbformat": 4,
 "nbformat_minor": 2
}
