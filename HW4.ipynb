{
 "cells": [
  {
   "cell_type": "markdown",
   "metadata": {},
   "source": [
    "**IMPORTANT** <br> <ul> <li> Do **NOT** replace or remove this notebook (ipynb file)! Each cell has unique nbgrader's metadata and ID which, if changed outside the nbgrader, cannot pass the tests. Do **NOT** change the name of the file!</li> <li> To receive any credit, don't forget to **SUBMIT** your notebook when you are done! You can have multiple submissions before the deadline; only the last one is saved, including its timestamp.</li> <li>Before submitting, **Validate** your notebook to check if your codes pass all visible tests. </li> <li>Make sure you fill in any cell with the comment `# your code here`. Remove or comment the command `fail()` (in R), or `raise NotImplementedError` (in Python) and place your code there </li> </ul>"
   ]
  },
  {
   "cell_type": "code",
   "execution_count": 4,
   "metadata": {},
   "outputs": [],
   "source": [
    "NAME = \"Kaytlyn Daffern\""
   ]
  },
  {
   "cell_type": "markdown",
   "metadata": {},
   "source": [
    "---"
   ]
  },
  {
   "cell_type": "code",
   "execution_count": 5,
   "metadata": {
    "deletable": false,
    "editable": false,
    "nbgrader": {
     "cell_type": "code",
     "checksum": "79393d4f026f518143308bbb92f06f06",
     "grade": false,
     "grade_id": "cell-c4860381156b50ef",
     "locked": true,
     "schema_version": 3,
     "solution": false,
     "task": false
    }
   },
   "outputs": [],
   "source": [
    "## run this cell first!!!\n",
    "from nose.tools import assert_equal, assert_raises\n",
    "import warnings\n",
    "import numpy as np"
   ]
  },
  {
   "cell_type": "markdown",
   "metadata": {
    "deletable": false,
    "editable": false,
    "nbgrader": {
     "cell_type": "markdown",
     "checksum": "5a0f1b88851b77e10bea5a423f7b8c9b",
     "grade": false,
     "grade_id": "cell-9f9d05ef92765f1d",
     "locked": true,
     "schema_version": 3,
     "solution": false,
     "task": false
    }
   },
   "source": [
    "## Question 1\n",
    "\n",
    "Create a function `convTemp`, which converts temperature from one of the\n",
    "units Fahrenheit, Celsius and Kelvin, to another from this list. Your function should have 3 input parameters:\n",
    "\n",
    "- **x** - which can be either a number (int or float), or array \n",
    "- **fro** - which is a character parameter, having possible values “C” (default), “F”, or “K” (**Note**: `from` is a reserved word in Python, so we use `fro` for our input parameter)\n",
    "- **to** - which is a character parameter, having possible values “F” (default), “C”, or “K”\n",
    "\n",
    "Use the following relations between different units, with $F$ in Fahrenheits, $C$ in Celsius and $K$ in Kelvin:\n",
    "\n",
    "\\begin{align} \n",
    "F &= {9\\over 5} \\cdot C + 32  \\newline \n",
    "K &= C + 273.15\n",
    "\\end{align}\n",
    "\n",
    "If `from` and `to` happen to be the same units (i.e. the same character variables from the set {\"C\", \"F\" \"K\"}),\n",
    "then your function should return the same vector as the input vector, but should previously print out the\n",
    "warning, which warns a user that these two are the same (so the function is not useful in that case). Import the module `warnings` and use the following command for printing the warning message (do not change this command, not even a single character!)<br>\n",
    "\n",
    "`warnings.warn(\"Your 'fro' parameter is the same as your 'to' parameter!\")` <br> \n",
    "\n",
    "Here are some examples with various inputs and what your function should return. Keep in mind the output\n",
    "vector should be of the same length as the input vector x. Also, if you don’t specify the values of from or to,\n",
    "the default values should be used."
   ]
  },
  {
   "cell_type": "code",
   "execution_count": 6,
   "metadata": {
    "deletable": false,
    "nbgrader": {
     "cell_type": "code",
     "checksum": "d846db3efbb8356e7e302728af3f18ff",
     "grade": false,
     "grade_id": "cell-ffbcf0badabea285",
     "locked": false,
     "schema_version": 3,
     "solution": true,
     "task": false
    }
   },
   "outputs": [],
   "source": [
    "# your code here\n",
    "def convTemp(x, fro=\"C\", to=\"F\"):\n",
    "    # Check if fro and to parameters are the same\n",
    "    if fro == to:\n",
    "        warnings.warn(\"Your 'fro' parameter is the same as your 'to' parameter!\")\n",
    "        return x\n",
    "    \n",
    "    # conversion functions for each of the conversions\n",
    "    def c_to_f(c):\n",
    "        return (9/5) * c + 32\n",
    "    \n",
    "    def c_to_k(c):\n",
    "        return c + 273.15\n",
    "\n",
    "    def f_to_c(f):\n",
    "        return (5/9) * (f - 32)\n",
    "\n",
    "    def f_to_k(f):\n",
    "        # using the other functions to convert f to c and c to k\n",
    "        return c_to_k(f_to_c(f))\n",
    "    \n",
    "    def k_to_c(k):\n",
    "        return k - 273.15\n",
    "\n",
    "    def k_to_f(k):\n",
    "        # using the other functions to convert k to c and c to f\n",
    "        return c_to_f(k_to_c(k))\n",
    "\n",
    "    # Check fro and to\n",
    "    if fro == \"C\" and to == \"F\":\n",
    "        convert_func = c_to_f\n",
    "    elif fro == \"C\" and to == \"K\":\n",
    "        convert_func = c_to_k\n",
    "    elif fro == \"F\" and to == \"C\":\n",
    "        convert_func = f_to_c\n",
    "    elif fro == \"F\" and to == \"K\":\n",
    "        convert_func = f_to_k\n",
    "    elif fro == \"K\" and to == \"C\":\n",
    "        convert_func = k_to_c\n",
    "    elif fro == \"K\" and to == \"F\":\n",
    "        convert_func = k_to_f\n",
    "    else:\n",
    "        raise ValueError(\"Invalid temperature scale provided\")\n",
    "\n",
    "    # Convert x to an array if its a list\n",
    "    if isinstance(x, (list, np.ndarray)):\n",
    "        x = np.array(x)\n",
    "        return list(convert_func(val) for val in x)\n",
    "    else:\n",
    "        return convert_func(x)\n"
   ]
  },
  {
   "cell_type": "code",
   "execution_count": 7,
   "metadata": {
    "deletable": false,
    "editable": false,
    "nbgrader": {
     "cell_type": "code",
     "checksum": "bf4b14c8916022a707bc48d857bc51c1",
     "grade": true,
     "grade_id": "cell-71fec7304690b95c",
     "locked": true,
     "points": 5,
     "schema_version": 3,
     "solution": false,
     "task": false
    }
   },
   "outputs": [],
   "source": [
    "assert convTemp(0) == 32\n",
    "assert convTemp([0,10,20]) == [32, 50, 68]\n",
    "\n"
   ]
  },
  {
   "cell_type": "code",
   "execution_count": 8,
   "metadata": {
    "deletable": false,
    "editable": false,
    "nbgrader": {
     "cell_type": "code",
     "checksum": "4fbf326b2971129e39dd2f8420c0b3cb",
     "grade": true,
     "grade_id": "cell-f54ef113632b0545",
     "locked": true,
     "points": 4,
     "schema_version": 3,
     "solution": false,
     "task": false
    }
   },
   "outputs": [],
   "source": [
    "assert convTemp(104, fro=\"F\", to=\"C\") == 40\n",
    "assert convTemp([68, -4, 59], fro=\"F\", to=\"C\") == [20, -20, 15]\n"
   ]
  },
  {
   "cell_type": "code",
   "execution_count": 9,
   "metadata": {
    "deletable": false,
    "editable": false,
    "nbgrader": {
     "cell_type": "code",
     "checksum": "a3eb03a23891894961f7c3a5f3a7b82d",
     "grade": true,
     "grade_id": "cell-76141357521f9cc2",
     "locked": true,
     "points": 4,
     "schema_version": 3,
     "solution": false,
     "task": false
    }
   },
   "outputs": [],
   "source": [
    "import numpy as np\n",
    "\n",
    "assert abs(convTemp(30, to=\"K\") - 303.15) < 1e-10\n",
    "assert max(abs(np.array(convTemp([283.15, 322], fro=\"K\")) - np.array([50, 119.93]))) < 1e-10\n"
   ]
  },
  {
   "cell_type": "code",
   "execution_count": 10,
   "metadata": {
    "deletable": false,
    "editable": false,
    "nbgrader": {
     "cell_type": "code",
     "checksum": "cfbae70b528ff18e7943061093b2621f",
     "grade": true,
     "grade_id": "cell-aafa54aff03ac7a2",
     "locked": true,
     "points": 4,
     "schema_version": 3,
     "solution": false,
     "task": false
    }
   },
   "outputs": [],
   "source": [
    "## check whether the answer is a list of length n is input is a list of length n\n",
    "\n",
    "assert type(convTemp([58, 104, 32], fro=\"F\", to=\"C\")) == list\n",
    "assert len(convTemp([58, 104, 32], fro=\"F\", to=\"C\")) == len([58, 104, 32])\n"
   ]
  },
  {
   "cell_type": "code",
   "execution_count": 11,
   "metadata": {
    "deletable": false,
    "editable": false,
    "nbgrader": {
     "cell_type": "code",
     "checksum": "0e6f17977e8e920c6efd6a2afbba1043",
     "grade": true,
     "grade_id": "cell-97e6851dfda45397",
     "locked": true,
     "points": 4,
     "schema_version": 3,
     "solution": false,
     "task": false
    }
   },
   "outputs": [],
   "source": [
    "with warnings.catch_warnings(record=True) as w:\n",
    "    # trigger a warning\n",
    "    convTemp(58, fro=\"F\")\n",
    "    # verify the message\n",
    "    assert str(w[-1].message) == \"Your 'fro' parameter is the same as your 'to' parameter!\"\n",
    "    \n"
   ]
  },
  {
   "cell_type": "code",
   "execution_count": 12,
   "metadata": {
    "deletable": false,
    "editable": false,
    "nbgrader": {
     "cell_type": "code",
     "checksum": "8e1792d80137593c27832379d97c98a0",
     "grade": true,
     "grade_id": "cell-49510928a0d3b69a",
     "locked": true,
     "points": 4,
     "schema_version": 3,
     "solution": false,
     "task": false
    }
   },
   "outputs": [],
   "source": [
    "with warnings.catch_warnings(record=True) as w:\n",
    "    # Trigger a warning.\n",
    "    convTemp(58, to=\"K\", fro=\"K\")\n",
    "    # Verify the message\n",
    "    assert str(w[-1].message) == \"Your 'fro' parameter is the same as your 'to' parameter!\"\n",
    " "
   ]
  },
  {
   "cell_type": "markdown",
   "metadata": {
    "deletable": false,
    "editable": false,
    "nbgrader": {
     "cell_type": "markdown",
     "checksum": "0c3a4021c0d6e2ed6e78a52a10025ebe",
     "grade": false,
     "grade_id": "cell-fc44d4ca47ea5903",
     "locked": true,
     "schema_version": 3,
     "solution": false,
     "task": false
    }
   },
   "source": [
    "## Question 2\n",
    "\n",
    "Create a piece-wise function `pwfun()`, defined in the following way:\n",
    "\n",
    "$$\\text{pwfun}(x) = \\begin{cases}\n",
    "-2 x - 2 &, \\hspace{1.1cm} x<-1 \\\\\n",
    "\\hspace{.5cm} 0 &, -1\\leq x \\leq 1 \\\\\n",
    "x^2 - 1 &, \\hspace{0.3cm} 1 < x\n",
    "\\end{cases}$$\n",
    "\n",
    "Its graph is given below. <br>\n",
    "\n",
    " <img src=\"piecewise-fcn.jpg\" height=\"600\" width=\"300\"> \n",
    "\n",
    "Your python function should be able to accept both a single numeric value (float or int), and a list of numeric values. The output should be either a single numeric or a list, depending on what the input is. **Round your output values to 2 decimal places.** Also, whenever the output entry is an integer (in mathematical sense), it should be converted into an `int` value. For example, if `x = [-3.0, 5.0]`, then `pwfun(x)` should return\n",
    "\n",
    "`[4,24]`\n",
    "\n",
    "(**NOT** `[4., 24.]`, whose entries `4.` and `24.` are floats)\n",
    "\n",
    "Here are some input vectors and what you should get as a corresponding output. \n",
    "\n",
    "`pwfun(-1)` <br> \n",
    "`0`\n",
    "\n",
    "`pwfun([-2, 0.5, 3])` <br>\n",
    "`[2, 0, 8]`\n",
    "\n",
    "`x = [-3.0, -2.5, -1, 0 , 1, 2, 3.2]  ## note the output of the first two floats`  <br> \n",
    "`pwfun(x)` <br>\n",
    "`[4, 3, 0, 0, 0, 3, 9.24]`\n"
   ]
  },
  {
   "cell_type": "code",
   "execution_count": 23,
   "metadata": {
    "deletable": false,
    "nbgrader": {
     "cell_type": "code",
     "checksum": "9b83dbb511a2620295d4836bf33fbac5",
     "grade": false,
     "grade_id": "cell-0439f2e4d601c7a1",
     "locked": false,
     "schema_version": 3,
     "solution": true,
     "task": false
    }
   },
   "outputs": [
    {
     "data": {
      "text/plain": [
       "[4, 3, 0, 0, 0, 3, 9.24]"
      ]
     },
     "execution_count": 23,
     "metadata": {},
     "output_type": "execute_result"
    }
   ],
   "source": [
    "# your code here\n",
    "def pwfun(x):\n",
    "    # dtermine which result based on the val\n",
    "    def piecewise(val):\n",
    "        if val < -1:\n",
    "            result = (-2 * val) - 2\n",
    "        elif -1 <= val <= 1:\n",
    "            result = 0\n",
    "        else:\n",
    "            result = (val**2) - 1\n",
    "        result = round(result, 2)\n",
    "        # If the result is a float and is mathematically an integer\n",
    "        return int(result) if isinstance(result, float) and result.is_integer() else result\n",
    "\n",
    "    # If x is a list, apply piecewise to each element in the list\n",
    "    if isinstance(x, (list, np.ndarray)):\n",
    "        return [piecewise(val) for val in x]\n",
    "    else:\n",
    "        return piecewise(x)\n",
    "\n",
    "\n",
    "x = [-3.0, -2.5, -1, 0 , 1, 2, 3.2] \n",
    "pwfun(x)"
   ]
  },
  {
   "cell_type": "code",
   "execution_count": 18,
   "metadata": {
    "deletable": false,
    "editable": false,
    "nbgrader": {
     "cell_type": "code",
     "checksum": "9f0943093757ea4945d1a30d090d951e",
     "grade": true,
     "grade_id": "cell-cbf227b7c693f503",
     "locked": true,
     "points": 2,
     "schema_version": 3,
     "solution": false,
     "task": false
    }
   },
   "outputs": [],
   "source": [
    "assert pwfun(-3) == 4\n",
    "assert pwfun(0.56) == 0\n",
    "assert pwfun(4) == 15\n",
    "\n",
    "x = [-6.0, -0.5 , 0.2,  7] \n",
    "assert pwfun(x) == [10, 0, 0, 48]\n"
   ]
  },
  {
   "cell_type": "code",
   "execution_count": 19,
   "metadata": {
    "deletable": false,
    "editable": false,
    "nbgrader": {
     "cell_type": "code",
     "checksum": "3151397b3f5e74d2656003e86804aa98",
     "grade": true,
     "grade_id": "cell-91919c2df753cad3",
     "locked": true,
     "points": 7,
     "schema_version": 3,
     "solution": false,
     "task": false
    }
   },
   "outputs": [
    {
     "data": {
      "text/plain": [
       "'testing for various input arguments (hidden tests)'"
      ]
     },
     "execution_count": 19,
     "metadata": {},
     "output_type": "execute_result"
    }
   ],
   "source": [
    "\"\"\"testing for various input arguments (hidden tests)\"\"\"\n"
   ]
  },
  {
   "cell_type": "code",
   "execution_count": 20,
   "metadata": {
    "deletable": false,
    "editable": false,
    "nbgrader": {
     "cell_type": "code",
     "checksum": "45e0626f5ecfe4bf0316342e82aefb7e",
     "grade": true,
     "grade_id": "cell-cd4da1c1d69f6719",
     "locked": true,
     "points": 8,
     "schema_version": 3,
     "solution": false,
     "task": false
    }
   },
   "outputs": [],
   "source": [
    "x = [-7/2, -2.5, -1, 0 , 1, 2, 3.2] \n",
    "assert pwfun(x) == [5, 3, 0, 0, 0, 3, 9.24]\n"
   ]
  },
  {
   "cell_type": "code",
   "execution_count": 21,
   "metadata": {
    "deletable": false,
    "editable": false,
    "nbgrader": {
     "cell_type": "code",
     "checksum": "c877057e4b28fc958fac572926a3a57f",
     "grade": true,
     "grade_id": "cell-29bfcf36dd047ec6",
     "locked": true,
     "points": 2,
     "schema_version": 3,
     "solution": false,
     "task": false
    }
   },
   "outputs": [],
   "source": [
    "## testing whether the entries are of appropriate type\n",
    "\n",
    "import numpy as np\n",
    "\n",
    "x = [-3.0, 2.3, -7/2, -2.5, -1.4] \n",
    "out = pwfun(x)  ## components with indices 1 and 4 (i.e. 2nd and the last component) \n",
    "                ## should be real, while the rest should be integers\n",
    "\n",
    "assert type(out[0]) == int  ## should be of int type\n",
    "assert type(out[1]) in [float, np.float64]  ## should be either float or numpy.float64 type\n",
    "assert type(out[2]) == int\n",
    "assert type(out[3]) == int\n",
    "assert type(out[4]) in [float, np.float64]\n"
   ]
  },
  {
   "cell_type": "code",
   "execution_count": 22,
   "metadata": {
    "deletable": false,
    "editable": false,
    "nbgrader": {
     "cell_type": "code",
     "checksum": "18460e45781f4119ebf9000c799fbed9",
     "grade": true,
     "grade_id": "cell-bd01ec82bf310684",
     "locked": true,
     "points": 6,
     "schema_version": 3,
     "solution": false,
     "task": false
    }
   },
   "outputs": [
    {
     "data": {
      "text/plain": [
       "'testing whether the answer is correct (hidden test)'"
      ]
     },
     "execution_count": 22,
     "metadata": {},
     "output_type": "execute_result"
    }
   ],
   "source": [
    "\"\"\"testing whether the answer is correct (hidden test)\"\"\"\n"
   ]
  }
 ],
 "metadata": {
  "kernelspec": {
   "display_name": "Python 3",
   "language": "python",
   "name": "python3"
  },
  "language_info": {
   "codemirror_mode": {
    "name": "ipython",
    "version": 3
   },
   "file_extension": ".py",
   "mimetype": "text/x-python",
   "name": "python",
   "nbconvert_exporter": "python",
   "pygments_lexer": "ipython3",
   "version": "3.8.10"
  }
 },
 "nbformat": 4,
 "nbformat_minor": 4
}
