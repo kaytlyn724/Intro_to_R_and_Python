{
 "cells": [
  {
   "cell_type": "markdown",
   "id": "d926d416",
   "metadata": {},
   "source": [
    "# LAB 4\n",
    "# Webscraping\n",
    "\n",
    "\n",
    "In this lab you are supposed to write a code that webscrapes data from the website <a href=\"http://books.toscrape.com\">http://books.toscrape.com</a>. This website was made for the purpose of practicing webscraping.<br>\n",
    "In fact, the code is already prepared for you and you just need to replace the commented text: <br> \n",
    "<font color=#339988><i><b>\n",
    "\\#YOUR CODE HERE!!!</b></i></font> <br>\n",
    "with appropriate codes.\n",
    "\n",
    "**When you are done, submit both your modified Lab4.ipynb file and its html version Lab4.html. To convert ipynb to html, inside Jupyter dashboard (where your ipynb file is open), go to File $\\to$ Donwload as $\\to$ HTML (.html)**"
   ]
  },
  {
   "cell_type": "code",
   "execution_count": 1,
   "id": "aaf0ce42",
   "metadata": {},
   "outputs": [],
   "source": [
    "# Import necessary libraries\n",
    "import requests\n",
    "from bs4 import BeautifulSoup\n",
    "import pandas as pd\n",
    "import matplotlib.pyplot as plt"
   ]
  },
  {
   "cell_type": "code",
   "execution_count": 2,
   "id": "51a9a3f8",
   "metadata": {},
   "outputs": [],
   "source": [
    "# vector of column names to be used in a data frame\n",
    "columnHeaders = ['Title', 'Price', 'Rating', 'Link']\n",
    "\n",
    "#Create an empty pandas dataframe called \"df\" with column headers given in the vector columnHeaders\n",
    "##################\n",
    "df = pd.DataFrame(columns=columnHeaders)\n",
    "#df\n",
    "##################"
   ]
  },
  {
   "cell_type": "markdown",
   "id": "45df52f4",
   "metadata": {},
   "source": [
    "The following code cell contains a while-loop for grabbing different pages.\n",
    "First page to begin with is <a href=\"http://books.toscrape.com/catalogue/page-1.html\">http://books.toscrape.com/catalogue/page-1.html</a> <br>\n",
    "You will need to create a string variable `url` which in the first iteration will be exactly <br>\n",
    "http://books.toscrape.com/catalogue/page-1.html <br>\n",
    "In the second iteration of the while-loop, the `url` variable will take the value <br>\n",
    "http://books.toscrape.com/catalogue/page-2.html, <br>\n",
    "in the third, <br>\n",
    "http://books.toscrape.com/catalogue/page-3.html <br>\n",
    "and so on."
   ]
  },
  {
   "cell_type": "code",
   "execution_count": 3,
   "id": "45bf5521",
   "metadata": {},
   "outputs": [
    {
     "name": "stdout",
     "output_type": "stream",
     "text": [
      "1 http://books.toscrape.com/catalogue/page-1.html\n",
      "2 http://books.toscrape.com/catalogue/page-2.html\n",
      "3 http://books.toscrape.com/catalogue/page-3.html\n",
      "4 http://books.toscrape.com/catalogue/page-4.html\n",
      "5 http://books.toscrape.com/catalogue/page-5.html\n",
      "6 http://books.toscrape.com/catalogue/page-6.html\n",
      "7 http://books.toscrape.com/catalogue/page-7.html\n",
      "8 http://books.toscrape.com/catalogue/page-8.html\n",
      "9 http://books.toscrape.com/catalogue/page-9.html\n",
      "10 http://books.toscrape.com/catalogue/page-10.html\n",
      "11 http://books.toscrape.com/catalogue/page-11.html\n",
      "12 http://books.toscrape.com/catalogue/page-12.html\n",
      "13 http://books.toscrape.com/catalogue/page-13.html\n",
      "14 http://books.toscrape.com/catalogue/page-14.html\n",
      "15 http://books.toscrape.com/catalogue/page-15.html\n",
      "16 http://books.toscrape.com/catalogue/page-16.html\n",
      "17 http://books.toscrape.com/catalogue/page-17.html\n",
      "18 http://books.toscrape.com/catalogue/page-18.html\n",
      "19 http://books.toscrape.com/catalogue/page-19.html\n",
      "20 http://books.toscrape.com/catalogue/page-20.html\n",
      "21 http://books.toscrape.com/catalogue/page-21.html\n",
      "22 http://books.toscrape.com/catalogue/page-22.html\n",
      "23 http://books.toscrape.com/catalogue/page-23.html\n",
      "24 http://books.toscrape.com/catalogue/page-24.html\n",
      "25 http://books.toscrape.com/catalogue/page-25.html\n",
      "26 http://books.toscrape.com/catalogue/page-26.html\n",
      "27 http://books.toscrape.com/catalogue/page-27.html\n",
      "28 http://books.toscrape.com/catalogue/page-28.html\n",
      "29 http://books.toscrape.com/catalogue/page-29.html\n",
      "30 http://books.toscrape.com/catalogue/page-30.html\n",
      "31 http://books.toscrape.com/catalogue/page-31.html\n",
      "32 http://books.toscrape.com/catalogue/page-32.html\n",
      "33 http://books.toscrape.com/catalogue/page-33.html\n",
      "34 http://books.toscrape.com/catalogue/page-34.html\n",
      "35 http://books.toscrape.com/catalogue/page-35.html\n",
      "36 http://books.toscrape.com/catalogue/page-36.html\n",
      "37 http://books.toscrape.com/catalogue/page-37.html\n",
      "38 http://books.toscrape.com/catalogue/page-38.html\n",
      "39 http://books.toscrape.com/catalogue/page-39.html\n",
      "40 http://books.toscrape.com/catalogue/page-40.html\n",
      "41 http://books.toscrape.com/catalogue/page-41.html\n",
      "42 http://books.toscrape.com/catalogue/page-42.html\n",
      "43 http://books.toscrape.com/catalogue/page-43.html\n",
      "44 http://books.toscrape.com/catalogue/page-44.html\n",
      "45 http://books.toscrape.com/catalogue/page-45.html\n",
      "46 http://books.toscrape.com/catalogue/page-46.html\n",
      "47 http://books.toscrape.com/catalogue/page-47.html\n",
      "48 http://books.toscrape.com/catalogue/page-48.html\n",
      "49 http://books.toscrape.com/catalogue/page-49.html\n",
      "50 http://books.toscrape.com/catalogue/page-50.html\n"
     ]
    }
   ],
   "source": [
    "# Create a counter for the while loop to follow, will denote page number in loop\n",
    "counter = 1\n",
    "\n",
    "# Create empty list to store each book \n",
    "bookData = []\n",
    "\n",
    "# Create a loop to loop through all the different pages on the webpage\n",
    "while counter <= 50:\n",
    "    \n",
    "    # Define a dynamic url to get to the next page in every iteration of the while-loop.\n",
    "    # The variable url should be a string, which changes from iteration to iteration\n",
    "    # in the way described in the markdown cell above\n",
    "    #########################\n",
    "    url = f\"http://books.toscrape.com/catalogue/page-{counter}.html\" #YOUR CODE HERE!!!\n",
    "    #########################\n",
    "    \n",
    "    # Use the requests library to send a get-request for the current url\n",
    "    page = requests.get(url)\n",
    "    \n",
    "    # Use Beautiful Soup library to create a soup object that allows us to parse the html content of the page we got\n",
    "    soup = BeautifulSoup(page.content, 'html.parser')\n",
    "    \n",
    "    # Find all the tags that contain the information we would like to collect per book using Beautiful Soup find_all method\n",
    "    # and store them into lists\n",
    "    price = soup.find_all('p', attrs={'class':'price_color'}) # p-tags (paragraphs) whose class is named 'price_color'\n",
    "    title = soup.find_all('h3')  # h3-tags (level 3 headers) \n",
    "    rating = soup.find_all('p', attrs={'class':'star-rating'})  # p-tags whose class is named 'star-rating'\n",
    "    #create a list called 'link' which consists of div-tags (div is one of the html tags), whose class \n",
    "    #is named 'image_container'; this list should be created in similar fashion as lists price, title and rating\n",
    "    ##################\n",
    "    link = soup.find_all('div', attrs={'class':'image_container'}) #YOUR CODE HERE!!!\n",
    "    ##################\n",
    "    \n",
    "    # Note: The length of the lists created in the last step are all the same, since those specific tags only exist per book.\n",
    "    # iterating through the ranges of the list, append each book's information to the dataframe created earlier\n",
    "   \n",
    "    ## Iterating through each book on current page and storing them into the empty list bookData.\n",
    "    for i in range(len(price)):\n",
    "        \n",
    "        books = {\n",
    "            \n",
    "            'Title': title[i].a.get('title'),\n",
    "            \n",
    "            'Price': price[i].get_text(),\n",
    "            \n",
    "            'Rating': rating[i].get('class')[1],\n",
    "            \n",
    "            'Link': link[i].a.get('href')\n",
    "        }\n",
    "        \n",
    "        bookData.append(books)\n",
    "    \n",
    "    #Print Counter to ensure loop is running properly, optional\n",
    "    print(counter, url)\n",
    "    \n",
    "    #Increase counter at the end of the loop to change the url during next loop iteration\n",
    "    counter = counter + 1\n",
    "    \n",
    "    # filling our empty DataFrame with our books. \n",
    "    df = pd.DataFrame(bookData)"
   ]
  },
  {
   "cell_type": "markdown",
   "id": "0c73e2ca",
   "metadata": {},
   "source": [
    "### From now on it's about pandas "
   ]
  },
  {
   "cell_type": "code",
   "execution_count": 4,
   "id": "026af2a0",
   "metadata": {},
   "outputs": [
    {
     "name": "stdout",
     "output_type": "stream",
     "text": [
      "                                   Title   Price Rating  \\\n",
      "0                   A Light in the Attic  £51.77  Three   \n",
      "1                     Tipping the Velvet  £53.74    One   \n",
      "2                             Soumission  £50.10    One   \n",
      "3                          Sharp Objects  £47.82   Four   \n",
      "4  Sapiens: A Brief History of Humankind  £54.23   Five   \n",
      "\n",
      "                                                Link  \n",
      "0               a-light-in-the-attic_1000/index.html  \n",
      "1                  tipping-the-velvet_999/index.html  \n",
      "2                          soumission_998/index.html  \n",
      "3                       sharp-objects_997/index.html  \n",
      "4  sapiens-a-brief-history-of-humankind_996/index...  \n"
     ]
    }
   ],
   "source": [
    "# Print the head of the dataframe to sanity check\n",
    "print(df.head())"
   ]
  },
  {
   "cell_type": "code",
   "execution_count": 5,
   "id": "311bb871",
   "metadata": {},
   "outputs": [
    {
     "name": "stdout",
     "output_type": "stream",
     "text": [
      "                                                 Title   Price Rating  \\\n",
      "995  Alice in Wonderland (Alice's Adventures in Won...  £55.53    One   \n",
      "996   Ajin: Demi-Human, Volume 1 (Ajin: Demi-Human #1)  £57.06   Four   \n",
      "997  A Spy's Devotion (The Regency Spies of London #1)  £16.97   Five   \n",
      "998                1st to Die (Women's Murder Club #1)  £53.98    One   \n",
      "999                 1,000 Places to See Before You Die  £26.08   Five   \n",
      "\n",
      "                                                  Link  \n",
      "995  alice-in-wonderland-alices-adventures-in-wonde...  \n",
      "996  ajin-demi-human-volume-1-ajin-demi-human-1_4/i...  \n",
      "997  a-spys-devotion-the-regency-spies-of-london-1_...  \n",
      "998       1st-to-die-womens-murder-club-1_2/index.html  \n",
      "999     1000-places-to-see-before-you-die_1/index.html  \n"
     ]
    }
   ],
   "source": [
    "# Print the tail of the dataframe to sanity check (there shold be 1000 observations in total, so the last index is 999)\n",
    "print(df.tail()) #YOUR CODE HERE!!!"
   ]
  },
  {
   "cell_type": "markdown",
   "id": "338ffe0c",
   "metadata": {},
   "source": [
    "You can see that Price column consists of prices in pounds. The first symbol in each component of this column is £ and the values are of str type (i.e. the entries are strings). Check this by printing the type of 1st entry of the Price column (i.e. run the next cell)."
   ]
  },
  {
   "cell_type": "code",
   "execution_count": 6,
   "id": "046003ad",
   "metadata": {},
   "outputs": [
    {
     "data": {
      "text/plain": [
       "str"
      ]
     },
     "execution_count": 6,
     "metadata": {},
     "output_type": "execute_result"
    }
   ],
   "source": [
    "type(df['Price'][0])"
   ]
  },
  {
   "cell_type": "markdown",
   "id": "c690a86c",
   "metadata": {},
   "source": [
    "We now want to convert the price into US dollars, assuming that one pound is 1.3 dollars (£1 = $1.3)."
   ]
  },
  {
   "cell_type": "code",
   "execution_count": 7,
   "id": "512bd825",
   "metadata": {},
   "outputs": [
    {
     "data": {
      "text/html": [
       "<div>\n",
       "<style scoped>\n",
       "    .dataframe tbody tr th:only-of-type {\n",
       "        vertical-align: middle;\n",
       "    }\n",
       "\n",
       "    .dataframe tbody tr th {\n",
       "        vertical-align: top;\n",
       "    }\n",
       "\n",
       "    .dataframe thead th {\n",
       "        text-align: right;\n",
       "    }\n",
       "</style>\n",
       "<table border=\"1\" class=\"dataframe\">\n",
       "  <thead>\n",
       "    <tr style=\"text-align: right;\">\n",
       "      <th></th>\n",
       "      <th>Title</th>\n",
       "      <th>Price</th>\n",
       "      <th>Rating</th>\n",
       "      <th>Link</th>\n",
       "    </tr>\n",
       "  </thead>\n",
       "  <tbody>\n",
       "    <tr>\n",
       "      <th>0</th>\n",
       "      <td>A Light in the Attic</td>\n",
       "      <td>51.77</td>\n",
       "      <td>Three</td>\n",
       "      <td>a-light-in-the-attic_1000/index.html</td>\n",
       "    </tr>\n",
       "    <tr>\n",
       "      <th>1</th>\n",
       "      <td>Tipping the Velvet</td>\n",
       "      <td>53.74</td>\n",
       "      <td>One</td>\n",
       "      <td>tipping-the-velvet_999/index.html</td>\n",
       "    </tr>\n",
       "    <tr>\n",
       "      <th>2</th>\n",
       "      <td>Soumission</td>\n",
       "      <td>50.10</td>\n",
       "      <td>One</td>\n",
       "      <td>soumission_998/index.html</td>\n",
       "    </tr>\n",
       "  </tbody>\n",
       "</table>\n",
       "</div>"
      ],
      "text/plain": [
       "                  Title  Price Rating                                  Link\n",
       "0  A Light in the Attic  51.77  Three  a-light-in-the-attic_1000/index.html\n",
       "1    Tipping the Velvet  53.74    One     tipping-the-velvet_999/index.html\n",
       "2            Soumission  50.10    One             soumission_998/index.html"
      ]
     },
     "execution_count": 7,
     "metadata": {},
     "output_type": "execute_result"
    }
   ],
   "source": [
    "#drop the first character (i.e. symbol £) from all entries of column Price\n",
    "df['Price'] = df['Price'].str[1:]\n",
    "\n",
    "#convert the type of Price entries from strings (str) to reals (float)\n",
    "df['Price'] = df['Price'].astype(float)\n",
    "\n",
    "df.head(3)"
   ]
  },
  {
   "cell_type": "code",
   "execution_count": 8,
   "id": "d20ac3a5",
   "metadata": {},
   "outputs": [],
   "source": [
    "#convert prices from pounds to dollars (change values of Price column by factor of 1.3)\n",
    "##################\n",
    "df['Price'] = (df['Price'].astype(float) * 1.3).round(2) #YOUR CODE HERE\n",
    "##################"
   ]
  },
  {
   "cell_type": "code",
   "execution_count": 9,
   "id": "411dd5dc",
   "metadata": {},
   "outputs": [
    {
     "data": {
      "text/html": [
       "<div>\n",
       "<style scoped>\n",
       "    .dataframe tbody tr th:only-of-type {\n",
       "        vertical-align: middle;\n",
       "    }\n",
       "\n",
       "    .dataframe tbody tr th {\n",
       "        vertical-align: top;\n",
       "    }\n",
       "\n",
       "    .dataframe thead th {\n",
       "        text-align: right;\n",
       "    }\n",
       "</style>\n",
       "<table border=\"1\" class=\"dataframe\">\n",
       "  <thead>\n",
       "    <tr style=\"text-align: right;\">\n",
       "      <th></th>\n",
       "      <th>Title</th>\n",
       "      <th>Price</th>\n",
       "      <th>Rating</th>\n",
       "      <th>Link</th>\n",
       "    </tr>\n",
       "  </thead>\n",
       "  <tbody>\n",
       "    <tr>\n",
       "      <th>0</th>\n",
       "      <td>A Light in the Attic</td>\n",
       "      <td>67.30</td>\n",
       "      <td>Three</td>\n",
       "      <td>a-light-in-the-attic_1000/index.html</td>\n",
       "    </tr>\n",
       "    <tr>\n",
       "      <th>1</th>\n",
       "      <td>Tipping the Velvet</td>\n",
       "      <td>69.86</td>\n",
       "      <td>One</td>\n",
       "      <td>tipping-the-velvet_999/index.html</td>\n",
       "    </tr>\n",
       "    <tr>\n",
       "      <th>2</th>\n",
       "      <td>Soumission</td>\n",
       "      <td>65.13</td>\n",
       "      <td>One</td>\n",
       "      <td>soumission_998/index.html</td>\n",
       "    </tr>\n",
       "  </tbody>\n",
       "</table>\n",
       "</div>"
      ],
      "text/plain": [
       "                  Title  Price Rating                                  Link\n",
       "0  A Light in the Attic  67.30  Three  a-light-in-the-attic_1000/index.html\n",
       "1    Tipping the Velvet  69.86    One     tipping-the-velvet_999/index.html\n",
       "2            Soumission  65.13    One             soumission_998/index.html"
      ]
     },
     "execution_count": 9,
     "metadata": {},
     "output_type": "execute_result"
    }
   ],
   "source": [
    "#checking whether conversion was correct (compare it with the output of the previous cell)\n",
    "df.head(3)"
   ]
  },
  {
   "cell_type": "code",
   "execution_count": 10,
   "id": "58340cdb",
   "metadata": {},
   "outputs": [],
   "source": [
    "#change column name 'Price' into '$Price'\n",
    "df.rename(columns={'Price':'$Price'}, inplace = True)"
   ]
  },
  {
   "cell_type": "markdown",
   "id": "8bebd680",
   "metadata": {},
   "source": [
    "### In the following set of cells you need to find the title and the price of the least expensive book and the most expensive book"
   ]
  },
  {
   "cell_type": "code",
   "execution_count": 11,
   "id": "d358a431",
   "metadata": {},
   "outputs": [
    {
     "data": {
      "text/html": [
       "<div>\n",
       "<style scoped>\n",
       "    .dataframe tbody tr th:only-of-type {\n",
       "        vertical-align: middle;\n",
       "    }\n",
       "\n",
       "    .dataframe tbody tr th {\n",
       "        vertical-align: top;\n",
       "    }\n",
       "\n",
       "    .dataframe thead th {\n",
       "        text-align: right;\n",
       "    }\n",
       "</style>\n",
       "<table border=\"1\" class=\"dataframe\">\n",
       "  <thead>\n",
       "    <tr style=\"text-align: right;\">\n",
       "      <th></th>\n",
       "      <th>Title</th>\n",
       "      <th>$Price</th>\n",
       "      <th>Rating</th>\n",
       "      <th>Link</th>\n",
       "    </tr>\n",
       "  </thead>\n",
       "  <tbody>\n",
       "    <tr>\n",
       "      <th>0</th>\n",
       "      <td>An Abundance of Katherines</td>\n",
       "      <td>13.00</td>\n",
       "      <td>Five</td>\n",
       "      <td>an-abundance-of-katherines_362/index.html</td>\n",
       "    </tr>\n",
       "    <tr>\n",
       "      <th>1</th>\n",
       "      <td>The Origin of Species</td>\n",
       "      <td>13.01</td>\n",
       "      <td>Four</td>\n",
       "      <td>the-origin-of-species_499/index.html</td>\n",
       "    </tr>\n",
       "    <tr>\n",
       "      <th>2</th>\n",
       "      <td>The Tipping Point: How Little Things Can Make ...</td>\n",
       "      <td>13.03</td>\n",
       "      <td>Two</td>\n",
       "      <td>the-tipping-point-how-little-things-can-make-a...</td>\n",
       "    </tr>\n",
       "    <tr>\n",
       "      <th>3</th>\n",
       "      <td>Patience</td>\n",
       "      <td>13.21</td>\n",
       "      <td>Three</td>\n",
       "      <td>patience_916/index.html</td>\n",
       "    </tr>\n",
       "    <tr>\n",
       "      <th>4</th>\n",
       "      <td>Greek Mythic History</td>\n",
       "      <td>13.30</td>\n",
       "      <td>Five</td>\n",
       "      <td>greek-mythic-history_698/index.html</td>\n",
       "    </tr>\n",
       "    <tr>\n",
       "      <th>5</th>\n",
       "      <td>The Fellowship of the Ring (The Lord of the Ri...</td>\n",
       "      <td>13.35</td>\n",
       "      <td>Two</td>\n",
       "      <td>the-fellowship-of-the-ring-the-lord-of-the-rin...</td>\n",
       "    </tr>\n",
       "    <tr>\n",
       "      <th>6</th>\n",
       "      <td>History of Beauty</td>\n",
       "      <td>13.38</td>\n",
       "      <td>Four</td>\n",
       "      <td>history-of-beauty_521/index.html</td>\n",
       "    </tr>\n",
       "    <tr>\n",
       "      <th>7</th>\n",
       "      <td>The Lucifer Effect: Understanding How Good Peo...</td>\n",
       "      <td>13.52</td>\n",
       "      <td>One</td>\n",
       "      <td>the-lucifer-effect-understanding-how-good-peop...</td>\n",
       "    </tr>\n",
       "    <tr>\n",
       "      <th>8</th>\n",
       "      <td>NaNo What Now? Finding your editing process, r...</td>\n",
       "      <td>13.53</td>\n",
       "      <td>Four</td>\n",
       "      <td>nano-what-now-finding-your-editing-process-rev...</td>\n",
       "    </tr>\n",
       "    <tr>\n",
       "      <th>9</th>\n",
       "      <td>Pet Sematary</td>\n",
       "      <td>13.73</td>\n",
       "      <td>Three</td>\n",
       "      <td>pet-sematary_726/index.html</td>\n",
       "    </tr>\n",
       "  </tbody>\n",
       "</table>\n",
       "</div>"
      ],
      "text/plain": [
       "                                               Title  $Price Rating  \\\n",
       "0                         An Abundance of Katherines   13.00   Five   \n",
       "1                              The Origin of Species   13.01   Four   \n",
       "2  The Tipping Point: How Little Things Can Make ...   13.03    Two   \n",
       "3                                           Patience   13.21  Three   \n",
       "4                               Greek Mythic History   13.30   Five   \n",
       "5  The Fellowship of the Ring (The Lord of the Ri...   13.35    Two   \n",
       "6                                  History of Beauty   13.38   Four   \n",
       "7  The Lucifer Effect: Understanding How Good Peo...   13.52    One   \n",
       "8  NaNo What Now? Finding your editing process, r...   13.53   Four   \n",
       "9                                       Pet Sematary   13.73  Three   \n",
       "\n",
       "                                                Link  \n",
       "0          an-abundance-of-katherines_362/index.html  \n",
       "1               the-origin-of-species_499/index.html  \n",
       "2  the-tipping-point-how-little-things-can-make-a...  \n",
       "3                            patience_916/index.html  \n",
       "4                greek-mythic-history_698/index.html  \n",
       "5  the-fellowship-of-the-ring-the-lord-of-the-rin...  \n",
       "6                   history-of-beauty_521/index.html  \n",
       "7  the-lucifer-effect-understanding-how-good-peop...  \n",
       "8  nano-what-now-finding-your-editing-process-rev...  \n",
       "9                        pet-sematary_726/index.html  "
      ]
     },
     "execution_count": 11,
     "metadata": {},
     "output_type": "execute_result"
    }
   ],
   "source": [
    "# Create a data frame df_sorted which consists of data from df, sorted by price \n",
    "# from the cheapest to the most expensive (i.e. in ascending order) \n",
    "##################\n",
    "df_sorted = df.sort_values(by='$Price', ascending=True) #YOUR CODE HERE!!!\n",
    "##################\n",
    "\n",
    "#print first 10 rows of the data frame df_sorted (note the index labels, which are from the original data frame)\n",
    "##################\n",
    "df_sorted.head(10) #YOUR CODE HERE!!!\n",
    "##################\n",
    "\n",
    "# Reset the index so that df_sorted is re-indexed 0,1,2,3,... with the new order of the list\n",
    "df_sorted = df_sorted.reset_index(drop=True)\n",
    "df_sorted.head(10) #print first 10 rows of df_sorted"
   ]
  },
  {
   "cell_type": "code",
   "execution_count": 12,
   "id": "16f768d1",
   "metadata": {},
   "outputs": [
    {
     "name": "stdout",
     "output_type": "stream",
     "text": [
      "An Abundance of Katherines\n",
      "13.0\n"
     ]
    }
   ],
   "source": [
    "# Print the title of the cheapest book\n",
    "print(df_sorted['Title'][0])\n",
    "\n",
    "# Print the price of the cheapest book\n",
    "##################\n",
    "print(df_sorted['$Price'][0]) #YOUR CODE HERE\n",
    "##################"
   ]
  },
  {
   "cell_type": "code",
   "execution_count": 13,
   "id": "a035c738",
   "metadata": {},
   "outputs": [
    {
     "name": "stdout",
     "output_type": "stream",
     "text": [
      "The Perfect Play (Play by Play #1)\n",
      "77.99\n"
     ]
    }
   ],
   "source": [
    "# Print the title of the most expensive book\n",
    "##################\n",
    "print(df_sorted['Title'][999]) #YOUR CODE HERE\n",
    "##################\n",
    "\n",
    "# Print the price of the most expensive book\n",
    "##################\n",
    "print(df_sorted['$Price'][999]) #YOUR CODE HERE\n",
    "##################"
   ]
  },
  {
   "cell_type": "markdown",
   "id": "6c614325",
   "metadata": {},
   "source": [
    "### In this part you need to plot the histogram of prices, as well as the bar plot of frequencies of books with various star-rating categories"
   ]
  },
  {
   "cell_type": "code",
   "execution_count": 14,
   "id": "82944838",
   "metadata": {},
   "outputs": [
    {
     "data": {
      "image/png": "[encoded data removed]",
      "text/plain": [
       "<Figure size 432x288 with 1 Axes>"
      ]
     },
     "metadata": {
      "needs_background": "light"
     },
     "output_type": "display_data"
    }
   ],
   "source": [
    "#Use matplotlib to plot a histogram of prices (in dollars) with 20 bins\n",
    "##################\n",
    "plt.hist(df['$Price'], bins=20, edgecolor='black') #YOUR CODE HERE!\n",
    "plt.xlabel('Price (in dollars)')\n",
    "plt.ylabel('Frequency')\n",
    "plt.title('Histogram of Prices')\n",
    "plt.show()\n",
    "##################"
   ]
  },
  {
   "cell_type": "code",
   "execution_count": 15,
   "id": "f15258e1",
   "metadata": {},
   "outputs": [
    {
     "name": "stdout",
     "output_type": "stream",
     "text": [
      "One Star: 226\n",
      "Two Star: 196\n",
      "Three Star: 203\n",
      "Four Star: 179\n",
      "Five Star: 196\n"
     ]
    }
   ],
   "source": [
    "# finding the rating frequency distribution (count of books) for all star ratings.\n",
    "# Rating Distribution found by getting the length of the \"list\" where the rating value equals the specified rating\n",
    "print(\"One Star: \" + str(len(df[df['Rating'] == 'One'])))\n",
    "print(\"Two Star: \" + str(len(df[df['Rating'] == 'Two'])))\n",
    "print(\"Three Star: \" + str(len(df[df['Rating'] == 'Three'])))\n",
    "print(\"Four Star: \" + str(len(df[df['Rating'] == 'Four'])))\n",
    "print(\"Five Star: \" + str(len(df[df['Rating'] == 'Five'])))"
   ]
  },
  {
   "cell_type": "code",
   "execution_count": 16,
   "id": "476e74f2",
   "metadata": {},
   "outputs": [
    {
     "data": {
      "image/png": "[encoded data removed]",
      "text/plain": [
       "<Figure size 432x288 with 1 Axes>"
      ]
     },
     "metadata": {
      "needs_background": "light"
     },
     "output_type": "display_data"
    }
   ],
   "source": [
    "# Create a list for the x and y axis labels for a bar plot\n",
    "x_bar = ['One', 'Two', 'Three', 'Four', 'Five']\n",
    "y_bar = [len(df[df['Rating'] == 'One']), len(df[df['Rating'] == 'Two']), len(df[df['Rating'] == 'Three']),\n",
    "        len(df[df['Rating'] == 'Four']), len(df[df['Rating'] == 'Five'])]\n",
    "\n",
    "\n",
    "# Use matplotlib to plot the bar plot\n",
    "##################\n",
    "plt.bar(x_bar, y_bar, color='lightblue', edgecolor='black') #YOUR CODE HERE!\n",
    "##################\n",
    "\n",
    "# Change the x axis title, y axis title, and main title of plot\n",
    "plt.xlabel(\"Star Rating\")\n",
    "plt.ylabel(\"Number of Books\")\n",
    "plt.title(\"Number of Books per Rating\")\n",
    "\n",
    "plt.show()  #needed in script files .py (eg in spyder)"
   ]
  },
  {
   "cell_type": "markdown",
   "id": "091ecdbb",
   "metadata": {},
   "source": [
    "### That's it! You are done!"
   ]
  },
  {
   "cell_type": "markdown",
   "id": "c38cf219",
   "metadata": {},
   "source": [
    "### REMINDER: as mentioned at the beginning of this file, when you are done, submit both your modified Lab4.ipynb file and its html version Lab4.html. To convert ipynb to html, inside Jupyter dashbord (where your ipynb is open), go to File  →  Donwload as  →  HTML (.html)\n",
    "\n",
    "### IMPORTANT: Save to html AFTER you run all the cells and the output is printed out.\n",
    "\n",
    "<br>"
   ]
  },
  {
   "cell_type": "markdown",
   "id": "770d0002",
   "metadata": {},
   "source": [
    "### Appendix"
   ]
  },
  {
   "cell_type": "markdown",
   "id": "52c1f681",
   "metadata": {},
   "source": [
    "##### Here is some more code, for getting the number of books in each category (get url links from main page for all catgories, go through this links and get the number of books per category)"
   ]
  },
  {
   "cell_type": "code",
   "execution_count": null,
   "id": "926a02e5",
   "metadata": {},
   "outputs": [],
   "source": [
    "# Create a new data frame for catgories with specific column headers\n",
    "columnHeaders = ['Category','Count']\n",
    "cat_df = pd.DataFrame(columns = columnHeaders)\n",
    "\n",
    "# Define main url to get all categories, get the page requested, and turn html content into a soup object\n",
    "url = 'http://books.toscrape.com/'\n",
    "page = requests.get(url)\n",
    "soup = BeautifulSoup(page.content, 'html.parser')\n",
    "\n",
    "# Find the section tag that contains all the category urls\n",
    "categories = soup.find('ul', attrs={'class':'nav nav-list'})\n",
    "\n",
    "# Find all the tags, within the categories variable, that contains the links\n",
    "categories_list = categories.find_all('a')\n",
    "\n",
    "# Get all the links from this list of tags\n",
    "for i in range(len(categories_list)):\n",
    "    categories_list[i] = categories_list[i].get('href')\n",
    "\n",
    "# Iterate through the list of category htmls\n",
    "for i in categories_list:\n",
    "    # For each category, go to the page associted with that category and turn it into a soup object\n",
    "    url = 'http://books.toscrape.com/' + i\n",
    "    page = requests.get(url)\n",
    "    soup = BeautifulSoup(page.content, 'html.parser')\n",
    "    \n",
    "    # Find the category name and number of books within that category\n",
    "    cat_title = soup.find('div', attrs={'class':'page-header action'}).h1.get_text()\n",
    "    num_books = soup.find('form', attrs={'class':'form-horizontal'}).strong.get_text()\n",
    "    \n",
    "    # Append to the dataframe the category and number of books\n",
    "    #cat_df = cat_df.append({'Category': cat_title, 'Count': num_books}, ignore_index = True)\n",
    "    \n",
    "    #We need to use pd.concat() instead of cat_df.append() to update the dataframe with the category and number of books\n",
    "    cat_df = pd.concat([cat_df, pd.DataFrame({'Category': [cat_title], 'Count': [num_books]})], ignore_index  = True)\n",
    "                       \n",
    "                       "
   ]
  },
  {
   "cell_type": "markdown",
   "id": "039e916a",
   "metadata": {},
   "source": [
    "What is the distribution of books within each category? Here is the answer."
   ]
  },
  {
   "cell_type": "code",
   "execution_count": null,
   "id": "080319af",
   "metadata": {},
   "outputs": [],
   "source": [
    "# Sort the category list by count of books and print out the distribution\n",
    "cat_df['Count'] = cat_df['Count'].astype(int)\n",
    "cat_df = cat_df.sort_values(by=['Count'])\n",
    "cat_df = cat_df.reset_index(drop=True)\n",
    "print(cat_df)"
   ]
  },
  {
   "cell_type": "markdown",
   "id": "617ab64a",
   "metadata": {},
   "source": [
    "### REMINDER: as mentioned at the beginning of this file, when you are done, submit both your modified Lab4.ipynb file and its html version Lab4.html. To convert ipynb to html, inside Jupyter dashbord (where your ipynb is open), go to File  →  Donwload as  →  HTML (.html)\n",
    "\n",
    "### IMPORTANT: Save to html AFTER you run all the cells and the output is printed out."
   ]
  }
 ],
 "metadata": {
  "kernelspec": {
   "display_name": "Python 3",
   "language": "python",
   "name": "python3"
  },
  "language_info": {
   "codemirror_mode": {
    "name": "ipython",
    "version": 3
   },
   "file_extension": ".py",
   "mimetype": "text/x-python",
   "name": "python",
   "nbconvert_exporter": "python",
   "pygments_lexer": "ipython3",
   "version": "3.8.10"
  }
 },
 "nbformat": 4,
 "nbformat_minor": 5
}
