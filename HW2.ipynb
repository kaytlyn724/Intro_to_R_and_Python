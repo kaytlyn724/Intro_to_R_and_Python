{
 "cells": [
  {
   "cell_type": "markdown",
   "metadata": {},
   "source": [
    "**IMPORTANT** <br> <ul> <li> Do **NOT** replace or remove this notebook (ipynb file)! Each cell has unique nbgrader's metadata and ID which, if changed outside the nbgrader, cannot pass the tests. Do **NOT** change the name of the file!</li> <li> To receive any credit, don't forget to **SUBMIT** your notebook when you are done! You can have multiple submissions before the deadline; only the last one is saved, including its timestamp.</li> <li>Before submitting, **Validate** your notebook to check if your codes pass all visible tests. </li> <li>Make sure you fill in any cell with the comment `# your code here`. Remove or comment the command `fail()` (in R), or `raise NotImplementedError` (in Python) and place your code there </li> </ul>"
   ]
  },
  {
   "cell_type": "code",
   "execution_count": 1,
   "metadata": {},
   "outputs": [],
   "source": [
    "NAME = \"Kaytlyn Daffern\""
   ]
  },
  {
   "cell_type": "markdown",
   "metadata": {},
   "source": [
    "---"
   ]
  },
  {
   "cell_type": "code",
   "execution_count": 2,
   "metadata": {
    "deletable": false,
    "editable": false,
    "nbgrader": {
     "cell_type": "code",
     "checksum": "812e2f0bb37a7098f19207520925605e",
     "grade": false,
     "grade_id": "cell-e19c1ef2d0ebd059",
     "locked": true,
     "schema_version": 3,
     "solution": false,
     "task": false
    }
   },
   "outputs": [],
   "source": [
    "## import libraries needed\n",
    "## make sure you run this code first!\n",
    "\n",
    "library(testthat)\n",
    "library(digest)\n",
    "library(stringr)"
   ]
  },
  {
   "cell_type": "markdown",
   "metadata": {
    "deletable": false,
    "editable": false,
    "nbgrader": {
     "cell_type": "markdown",
     "checksum": "c7f6b6dfd428d284b37f6cf59c3071ea",
     "grade": false,
     "grade_id": "cell-910d4e33206517a5",
     "locked": true,
     "schema_version": 3,
     "solution": false,
     "task": false
    }
   },
   "source": [
    "## Question 1\n",
    "\n",
    "Create a function called  `convTemp`, which converts temperature from one of the units - Fahrenheit, Celsius or Kelvin, to another from this list. Your function should have 3 input parameters:\n",
    "\n",
    "* `x` - which is a vector of (real) numbers \n",
    "\n",
    "* `from` - which is a character parameter, having possible values `\"C\"` (default), `\"F\"`, or `\"K\"`\n",
    "\n",
    "* `to` - which is a character parameter, having possible values `\"F\"` (default), `\"C\"`, or `\"K\"`\n",
    "\n",
    "Recall that if a temperature has value $F$ in Fahrenheits, $C$ in Celsius and $K$ in Kelvin, then \n",
    "\\begin{align}\n",
    "F &= \\frac{9}{5}\\cdot C + 32 \\nonumber \\\\\n",
    "K &= C + 273.15 \\nonumber \n",
    "\\end{align}\n",
    "\n",
    "\n",
    "If `from` and `to` happen to be the same units (i.e. the same character variables from the set {`\"C\"`, `\"F\"` `\"K\"`}), then your function should return the same vector as the input vector, but should previously print out the `warning`, which warns a user that these two are the same (so the function is not useful in that case). Please use the following command for the warning (__**do not change this command, not even a single character!**__)\n",
    "\n",
    "`warning(\"Your 'from' parameter is the same as your 'to' parameter!\")`\n",
    "\n",
    "Here are some examples of what your function should return.\n",
    "\n",
    "`convTemp(c(-10,0,10))` <br>\n",
    "`14 32 50`\n",
    "\n",
    "\n",
    "\n",
    "\n"
   ]
  },
  {
   "cell_type": "code",
   "execution_count": 3,
   "metadata": {
    "deletable": false,
    "nbgrader": {
     "cell_type": "code",
     "checksum": "e5a081dc7a8ffabe6b3cf2220caacbef",
     "grade": false,
     "grade_id": "cell-b711446236212b08",
     "locked": false,
     "schema_version": 3,
     "solution": true,
     "task": false
    }
   },
   "outputs": [
    {
     "data": {
      "text/html": [
       "<style>\n",
       ".list-inline {list-style: none; margin:0; padding: 0}\n",
       ".list-inline>li {display: inline-block}\n",
       ".list-inline>li:not(:last-child)::after {content: \"\\00b7\"; padding: 0 .5ex}\n",
       "</style>\n",
       "<ol class=list-inline><li>274.816666666667</li><li>277.594444444444</li><li>280.372222222222</li></ol>\n"
      ],
      "text/latex": [
       "\\begin{enumerate*}\n",
       "\\item 274.816666666667\n",
       "\\item 277.594444444444\n",
       "\\item 280.372222222222\n",
       "\\end{enumerate*}\n"
      ],
      "text/markdown": [
       "1. 274.816666666667\n",
       "2. 277.594444444444\n",
       "3. 280.372222222222\n",
       "\n",
       "\n"
      ],
      "text/plain": [
       "[1] 274.8167 277.5944 280.3722"
      ]
     },
     "metadata": {},
     "output_type": "display_data"
    }
   ],
   "source": [
    "# your code here\n",
    "convTemp = function(x, from='C', to='F') {\n",
    "    if (from == to) {\n",
    "    warning(\"Your 'from' parameter is the same as your 'to' parameter!\")\n",
    "    return(x)\n",
    "    }\n",
    "\n",
    "    converted = numeric(length(x))\n",
    "\n",
    "    for (i in seq_along(x)) {\n",
    "        temp = x[i]\n",
    "\n",
    "        if (from == 'C') {\n",
    "            if (to == 'F') {\n",
    "                # Celsius to Fahrenheit\n",
    "                converted[i] = 9/5 * temp + 32\n",
    "            } else if (to == 'K') {\n",
    "                # Celsius to Kelvin\n",
    "                converted[i] = temp + 273.15\n",
    "            }\n",
    "        } else if (from == 'F') {\n",
    "            if (to == 'C') {\n",
    "                # Fahrenheit to Celsius\n",
    "                converted[i] = (temp - 32) * 5/9\n",
    "            } else if (to == 'K') {\n",
    "                # Fahrenheit to Kelvin\n",
    "                converted[i] = (temp - 32) * 5/9 + 273.15\n",
    "            }\n",
    "        } else if (from == 'K') {\n",
    "            if (to == 'C') {\n",
    "                # Kelvin to Celsius\n",
    "                converted[i] = temp - 273.15\n",
    "            } else if (to == 'F') {\n",
    "                # Kelvin to Fahrenheit\n",
    "                converted[i] = 9/5 * (temp - 273.15) + 32\n",
    "            }\n",
    "        }\n",
    "    }\n",
    "  \n",
    "  return(converted)\n",
    "}\n",
    "\n",
    "convTemp(c(35,40,45), from=\"F\", to=\"K\")"
   ]
  },
  {
   "cell_type": "code",
   "execution_count": 4,
   "metadata": {
    "deletable": false,
    "editable": false,
    "nbgrader": {
     "cell_type": "code",
     "checksum": "770aa5c4e595ffd34fe64b4beddc68d4",
     "grade": true,
     "grade_id": "cell-68934610a4d01fbf",
     "locked": true,
     "points": 2,
     "schema_version": 3,
     "solution": false,
     "task": false
    }
   },
   "outputs": [
    {
     "name": "stdout",
     "output_type": "stream",
     "text": [
      "\u001b[32mTest passed\u001b[39m 🥳\n"
     ]
    }
   ],
   "source": [
    "## Check conversion from default C to default F\n",
    "\n",
    "if (test_that(desc=\"default Celsius to default Fahrenheight\", code={\n",
    "    expect_equal(convTemp(c(20,30)), c(68,86)) \n",
    "    }) != TRUE)  stop(\"Sorry, wrong conversion from default C to default F!\")\n"
   ]
  },
  {
   "cell_type": "code",
   "execution_count": 5,
   "metadata": {
    "deletable": false,
    "editable": false,
    "nbgrader": {
     "cell_type": "code",
     "checksum": "aa8f1b1f1c101a0da5f3c5cba7fd18d3",
     "grade": true,
     "grade_id": "cell-7ffe17fa9d1682a5",
     "locked": true,
     "points": 3,
     "schema_version": 3,
     "solution": false,
     "task": false
    }
   },
   "outputs": [
    {
     "name": "stdout",
     "output_type": "stream",
     "text": [
      "\u001b[32mTest passed\u001b[39m 🥇\n"
     ]
    }
   ],
   "source": [
    "## check conversion from F to C\n",
    "\n",
    "if (test_that(desc=\"from Fahrenheit to Celsius\", code={\n",
    "    expect_equal(convTemp(c(32,50,104),from=\"F\", to=\"C\"), c(0,10,40)) \n",
    "        }) != TRUE) stop(\"Sorry wrong conversion from F to C\")\n",
    "\n"
   ]
  },
  {
   "cell_type": "code",
   "execution_count": 6,
   "metadata": {
    "deletable": false,
    "editable": false,
    "nbgrader": {
     "cell_type": "code",
     "checksum": "975aa20f9dccc163562455aaed2598fd",
     "grade": true,
     "grade_id": "cell-961256ed0adc5584",
     "locked": true,
     "points": 3,
     "schema_version": 3,
     "solution": false,
     "task": false
    }
   },
   "outputs": [
    {
     "name": "stdout",
     "output_type": "stream",
     "text": [
      "\u001b[32mTest passed\u001b[39m 🎊\n",
      "\u001b[32mTest passed\u001b[39m 🥳\n"
     ]
    }
   ],
   "source": [
    "## check conversion from default C to K, and from F to K (to 5 decimal places)\n",
    "\n",
    "if (test_that(desc=\"from default C to K\",code={\n",
    "         expect_equal(norm(convTemp(c(16,30),to=\"K\") - c(289.15,303.15),type=\"2\") < 1e-5, T) \n",
    "         }) != TRUE)  stop(\"Sorry, wrong conversion from C to K!\")\n",
    "\n",
    "\n",
    "if (test_that(desc=\"\", code={\n",
    "    expect_equal(norm(\n",
    "        convTemp(c(35,40,45), from=\"F\", to=\"K\") - c(274.816666667,277.59444444,280.37222222),type=\"2\") < 1e-5, TRUE)\n",
    "    }) != TRUE) stop(\"Sorry, wrong conversion from F to K\")\n",
    "\n"
   ]
  },
  {
   "cell_type": "code",
   "execution_count": 7,
   "metadata": {
    "deletable": false,
    "editable": false,
    "nbgrader": {
     "cell_type": "code",
     "checksum": "f2d97909d245b46aea94af3127003c20",
     "grade": true,
     "grade_id": "cell-c2e867b6f6e1972b",
     "locked": true,
     "points": 6,
     "schema_version": 3,
     "solution": false,
     "task": false
    }
   },
   "outputs": [],
   "source": [
    "## check some conversions (hidden tests)\n",
    "\n"
   ]
  },
  {
   "cell_type": "code",
   "execution_count": 8,
   "metadata": {
    "deletable": false,
    "editable": false,
    "nbgrader": {
     "cell_type": "code",
     "checksum": "c1e43a12d6c5004da63396f08a7b5862",
     "grade": true,
     "grade_id": "cell-86f32357b11937ff",
     "locked": true,
     "points": 6,
     "schema_version": 3,
     "solution": false,
     "task": false
    }
   },
   "outputs": [],
   "source": [
    "## check some conversions (hidden tests)\n",
    "\n"
   ]
  },
  {
   "cell_type": "code",
   "execution_count": 9,
   "metadata": {
    "deletable": false,
    "editable": false,
    "nbgrader": {
     "cell_type": "code",
     "checksum": "52efaa1e7289fac99d110a3aabd8155f",
     "grade": true,
     "grade_id": "cell-01d60753eaa50af2",
     "locked": true,
     "points": 6,
     "schema_version": 3,
     "solution": false,
     "task": false
    }
   },
   "outputs": [],
   "source": [
    "## check some conversions (hidden tests)\n"
   ]
  },
  {
   "cell_type": "markdown",
   "metadata": {
    "deletable": false,
    "editable": false,
    "nbgrader": {
     "cell_type": "markdown",
     "checksum": "bc952bfba84751c83bf5208b8331ba27",
     "grade": false,
     "grade_id": "cell-e42d3dcff19dc8d4",
     "locked": true,
     "schema_version": 3,
     "solution": false,
     "task": false
    }
   },
   "source": [
    "## Question 2\n",
    "\n",
    "Create an R function `pwfun()`, which computes values of the piece-wise (mathematical) function $\\text{pwfun}$ defined in the following way:\n",
    "\n",
    "$$\\text{pwfun}(x) = \\begin{cases}\n",
    "-2 x - 2 &, \\hspace{1.1cm} x<-1 \\\\\n",
    "\\hspace{.5cm} 0 &, -1\\leq x \\leq 1 \\\\\n",
    "x^2 - 1 &, \\hspace{0.3cm} 1 < x\n",
    "\\end{cases}$$\n",
    "\n",
    "Its graph is as follows. <br>\n",
    "\n",
    " <img src=\"hw2pic1.jpg\" height=\"300\" width=\"300\"> \n",
    " \n",
    "Your R function `pwfun()` should also accept `x` as a vector of arbitrary length and return vector of the same length with entries defined as values of the mathematical function $\\text{pwfun}$, evaluated at the corresponding entries of vector `x`.\n",
    "\n",
    "Here are some input vectors and what you should get as a corresponding output. \n",
    "\n",
    "`pwfun(-1)` <br> \n",
    "`0`\n",
    "\n",
    "`pwfun(c(-2, 0.5, 3))` <br>\n",
    "`2 0 8`\n",
    "\n",
    "`x = c(-3, -2, -1, 0 , 1, 2, 3.2)` <br> \n",
    "`pwfun(x)` <br>\n",
    "`4 2 0 0 0 3 9.24`\n",
    "\n",
    "<br>\n",
    "\n",
    "Hint: \n",
    "- Obviously, one way to solve this is using `if-elseif-else` statment. Apart from that, you can also take a look at the R function `ifelse()`, which you could call twice. \n",
    "\n",
    "\n",
    "- Be careful: because R has assignment operator `<-`, code lines  `a < -1` and `a <-1` do **NOT** have the same meaning! <br>\n",
    "While `a < -1` checks whether variable `a` is less than -1, <br>\n",
    "`a <-1` means the same as `a <- 1`, which is assigning the value 1 to the variable `a`.\n",
    "   \n",
    "\n",
    "\n"
   ]
  },
  {
   "cell_type": "code",
   "execution_count": 16,
   "metadata": {
    "deletable": false,
    "nbgrader": {
     "cell_type": "code",
     "checksum": "de7c42272780d6280de1c64244b23afe",
     "grade": false,
     "grade_id": "cell-a4966ee25eb90c61",
     "locked": false,
     "schema_version": 3,
     "solution": true,
     "task": false
    }
   },
   "outputs": [],
   "source": [
    "# your code here\n",
    "#pwfun = function(x) {\n",
    "#    \n",
    "#    converted = numeric(length(x))\n",
    "#\n",
    "#    for (i in seq_along(x)) {\n",
    "#        temp = x[i]\n",
    "#\n",
    "#        if (temp < -1) {\n",
    "#            # −2𝑥 −2, 𝑥 < −1\n",
    "#            converted[i] = (temp * -2) - 2\n",
    "#        } else if (temp >= -1 & temp <= 1) {\n",
    "#            # 0, −1 ≤ 𝑥 ≤ 1\n",
    "#            converted[i] = 0\n",
    "#        } else if (temp > 1) {\n",
    "#            # 𝑥^2 −1, 1 < 𝑥\n",
    "#            converted[i] = (temp * temp) - 1\n",
    "#        }\n",
    "#    }\n",
    "#  \n",
    "#  return(converted)\n",
    "#}\n",
    "\n",
    "pwfun = function(x) {\n",
    "  func_result = ifelse(x < -1, \n",
    "                   (-2 * x) - 2,\n",
    "                   ifelse(x <= 1, \n",
    "                          0,\n",
    "                          (x * x) - 1))\n",
    "  return(func_result)\n",
    "}"
   ]
  },
  {
   "cell_type": "code",
   "execution_count": 17,
   "metadata": {
    "deletable": false,
    "editable": false,
    "nbgrader": {
     "cell_type": "code",
     "checksum": "e7d8659b2f66415ea1124bf5b8691912",
     "grade": true,
     "grade_id": "cell-f6502c3956ca76f2",
     "locked": true,
     "points": 3,
     "schema_version": 3,
     "solution": false,
     "task": false
    }
   },
   "outputs": [
    {
     "name": "stdout",
     "output_type": "stream",
     "text": [
      "\u001b[32mTest passed\u001b[39m 🌈\n",
      "\u001b[32mTest passed\u001b[39m 🎉\n",
      "\u001b[32mTest passed\u001b[39m 🥳\n"
     ]
    }
   ],
   "source": [
    "# check whether pwfun(x) is a vector of appropriate length\n",
    "\n",
    "if (test_that(desc=\"\", code={\n",
    "    expect_equal(length(pwfun(-3)), 1)\n",
    "    }) != TRUE) stop(\"Sorry, pwfun(-3) should be a vector of length 1\")\n",
    "\n",
    "if (test_that(desc=\"\", code={\n",
    "    expect_equal(length(pwfun(-3)), 1)\n",
    "    }) != TRUE) stop(\"Sorry, pwfun(c(-3,6)) should be a vector of length 1\")\n",
    "\n",
    "if (test_that(desc=\"\", code={\n",
    "    expect_equal(length(pwfun(c(-3,1,-6,12,4))), 5)\n",
    "    }) != TRUE) stop(\"Sorry, pwfun(c(-3,1,-6,12,4)) should be a vector of length 5\")"
   ]
  },
  {
   "cell_type": "code",
   "execution_count": 16,
   "metadata": {
    "deletable": false,
    "editable": false,
    "nbgrader": {
     "cell_type": "code",
     "checksum": "605ae77e16aee1de9b094eff89ec7436",
     "grade": true,
     "grade_id": "cell-0a2f2b10a0c414a2",
     "locked": true,
     "points": 3,
     "schema_version": 3,
     "solution": false,
     "task": false
    }
   },
   "outputs": [
    {
     "name": "stdout",
     "output_type": "stream",
     "text": [
      "\u001b[32mTest passed\u001b[39m 🎉\n",
      "\u001b[32mTest passed\u001b[39m 🎊\n",
      "\u001b[32mTest passed\u001b[39m 😀\n",
      "\u001b[32mTest passed\u001b[39m 🥇\n"
     ]
    }
   ],
   "source": [
    "# check whether pwfun(x) is correct for several vectors x\n",
    "\n",
    "if (test_that(desc=\"\", code={\n",
    "    expect_equal(pwfun(-1), 0)\n",
    "    }) != TRUE) stop(\"Sorry, pwfun(-1) should be 0\")\n",
    "\n",
    "\n",
    "if (test_that(desc=\"\", code={\n",
    "    expect_equal(pwfun(7), \n",
    "                 48)\n",
    "    }) != TRUE) stop(\"Sorry, pwfun(7) should be 48\")\n",
    "\n",
    "if (test_that(desc=\"\", code={\n",
    "    expect_equal(pwfun(c(-2, 0.5, 3)), c(2,0,8))\n",
    "    }) != TRUE) stop(\"Sorry, wrong answer\")\n",
    "\n",
    "\n",
    "if (test_that(desc=\"\", code={\n",
    "    expect_equal(pwfun(c(-3,-2,-1,0,1,2,3.2)), c(4, 2, 0, 0, 0, 3, 9.24))\n",
    "    }) != TRUE) stop(\"Sorry, pwfun(c(-3,-2,-1,0,1,2,3.2)) should be c(4, 2, 0, 0, 0, 3, 9.24)\")\n",
    "\n",
    "\n"
   ]
  },
  {
   "cell_type": "code",
   "execution_count": 17,
   "metadata": {
    "deletable": false,
    "editable": false,
    "nbgrader": {
     "cell_type": "code",
     "checksum": "a66505790f5e127d470f3100e69d1b82",
     "grade": true,
     "grade_id": "cell-ba7a143317a3314c",
     "locked": true,
     "points": 6,
     "schema_version": 3,
     "solution": false,
     "task": false
    }
   },
   "outputs": [],
   "source": [
    "# check whether pwfun(x) is correct for some values x (hidden test)\n"
   ]
  },
  {
   "cell_type": "code",
   "execution_count": 18,
   "metadata": {
    "deletable": false,
    "editable": false,
    "nbgrader": {
     "cell_type": "code",
     "checksum": "5e0badd9ae134fc241a19ae3353fda3e",
     "grade": true,
     "grade_id": "cell-dab6c1502e25f0d1",
     "locked": true,
     "points": 6,
     "schema_version": 3,
     "solution": false,
     "task": false
    }
   },
   "outputs": [],
   "source": [
    "# check whether pwfun(x) is correct for some more values x (hidden test)\n"
   ]
  },
  {
   "cell_type": "code",
   "execution_count": 19,
   "metadata": {
    "deletable": false,
    "editable": false,
    "nbgrader": {
     "cell_type": "code",
     "checksum": "094f1263cec5c69fce35ad7a6e21a04f",
     "grade": true,
     "grade_id": "cell-e95e10c48cb0c9b1",
     "locked": true,
     "points": 6,
     "schema_version": 3,
     "solution": false,
     "task": false
    }
   },
   "outputs": [],
   "source": [
    "# more hidden testing about pwfun(x)\n"
   ]
  },
  {
   "cell_type": "code",
   "execution_count": null,
   "metadata": {},
   "outputs": [],
   "source": []
  }
 ],
 "metadata": {
  "kernelspec": {
   "display_name": "R",
   "language": "R",
   "name": "ir"
  },
  "language_info": {
   "codemirror_mode": "r",
   "file_extension": ".r",
   "mimetype": "text/x-r-source",
   "name": "R",
   "pygments_lexer": "r",
   "version": "3.6.3"
  }
 },
 "nbformat": 4,
 "nbformat_minor": 4
}
